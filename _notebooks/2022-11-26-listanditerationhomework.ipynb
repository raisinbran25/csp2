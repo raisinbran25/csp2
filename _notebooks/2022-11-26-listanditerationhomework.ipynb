{
 "cells": [
  {
   "cell_type": "markdown",
   "metadata": {},
   "source": [
    "# Lists and Iteration Homework and Challenges\n",
    "> Try to complete this to show understanding! Copy this into your notebook so you can also take notes as we lecture. Make a copy of this notebook to your own repository to take notes, do the class challenges, and to access the homework.\n",
    "- title: Lists and Iteration Homework\n",
    "- toc: true\n",
    "- permalink: /homework/"
   ]
  },
  {
   "cell_type": "markdown",
   "metadata": {},
   "source": [
    "## Overview and Notes:  3.10 - Lists\n",
    "- Make sure you complete the challenge in the challenges section while we present the lesson! \n",
    "\n",
    "Add your <mark>OWN</mark> Notes for 3.10 here: \n",
    "\n",
    "- lists are collections of data\n",
    "- store unlimited data\n",
    "- info can be used with loops and functions\n",
    "- index used to locate an item\n",
    "- most indexes start at 0, pseudocode starts 1\n",
    "\n",
    "Fill out the empty boxes: \n",
    "\n",
    "|   Pseudocode Operation  | Python Syntax |                                                           Description                                                          |\n",
    "|:-----------------------:|---------------|:------------------------------------------------------------------------------------------------------------------------------:|\n",
    "|         aList[i]        |       aList[i]        | _Accesses the element of aList at index i_                                                                                     |\n",
    "|       x ← aList[i]      |       x = aList[i]        | _Assigns the element of aList at index i <br>to a variable 'x'_                                                                |\n",
    "|       aList[i] ← x     |      aList(i) = x         | _Assigns the value of a variable 'x' to <br>the element of a List at index i_                                                  |\n",
    "|   aList[i] ← aList[j]   |       aList[i] = aList[j]        | _Assigns value of aList[j] to aList[i]_                                                                                        |\n",
    "| INSERT(aList, i, value) |       aList.insert(i, value)        | _value is placed at index i in aList. Any <br>element at an index greater than i will shift<br>one position to the right. _    |\n",
    "|   APPEND(aList, value)  |      aList.append(value)         | value is added as an element to the end of aList and length of aList is increased by 1                                    |\n",
    "|     REMOVE(aList, i)    |      aList.pop(i)<br>OR<br>aList.remove(value)         | _Removes item at index i and any values at <br>indices greater than i shift to the left. <br>Length of aList decreased by 1. _ |\n"
   ]
  },
  {
   "cell_type": "markdown",
   "metadata": {},
   "source": [
    "## Overview and Notes:  3.8 - Iteration\n",
    "\n",
    "Add your <mark>OWN</mark> Notes for 3.8 here: \n",
    "\n",
    "- iteration is the repetition of a function\n",
    "- done with loops(for, while)\n",
    "- loops are often used with lists/dictionaries\n",
    "\n"
   ]
  },
  {
   "cell_type": "markdown",
   "metadata": {},
   "source": [
    "## Homework Assignment\n",
    "\n",
    "Instead of us making a quiz for you to take, we would like YOU to make a quiz about the material we reviewed.\n",
    "\n",
    "We would like you to <mark>input questions into a list</mark>, and use some sort of iterative system to print the questions, detect an input, and determine if you answered correctly. There should be *at least* <mark>five questions</mark>, each with *at least* <mark>three possible answers</mark>.\n",
    "\n",
    "You may use the template below as a framework for this assignment."
   ]
  },
  {
   "cell_type": "code",
   "execution_count": 70,
   "metadata": {},
   "outputs": [
    {
     "name": "stdout",
     "output_type": "stream",
     "text": [
      "question: What is 2 + 2?\n",
      "answer 1: four\n",
      "answer 2: zero\n",
      "answer 3: one\n",
      "question: What is 6 x 7?\n",
      "answer 1: five\n",
      "answer 2: eight\n",
      "answer 3: forty two\n",
      "question: What is 4 / 4?\n",
      "answer 1: two\n",
      "answer 2: one\n",
      "answer 3: five\n",
      "question: What is 9 - 2?\n",
      "answer 1: five\n",
      "answer 2: two\n",
      "answer 3: seven\n",
      "question: What is 7 squared?\n",
      "answer 1: forty nine\n",
      "answer 2: twenty three\n",
      "answer 3: nine\n",
      "You failed the test with 40.0%.\n"
     ]
    }
   ],
   "source": [
    "questions = [\n",
    "    (1, \"What is 2 + 2?\", \"four\", \"zero\", \"one\"),\n",
    "    (3, \"What is 6 x 7?\", \"five\", \"eight\", \"forty two\"),\n",
    "    (2, \"What is 4 / 4?\", \"two\", \"one\", \"five\"),\n",
    "    (3, \"What is 9 - 2?\", \"five\", \"two\", \"seven\"),\n",
    "    (1, \"What is 7 squared?\", \"forty nine\", \"twenty three\", \"nine\")\n",
    "]\n",
    "\n",
    "def questionloop(qlist):\n",
    "    score = 0\n",
    "    for sub in qlist:\n",
    "        print(\"question: \" + sub[1])\n",
    "        print(\"answer 1: \" + sub[2])\n",
    "        print(\"answer 2: \" + sub[3])\n",
    "        print(\"answer 3: \" + sub[4])\n",
    "        res = input(\"Choose an answer number: \")\n",
    "        if int(res) == sub[0]:\n",
    "            score += 1\n",
    "            continue\n",
    "        else:\n",
    "            continue\n",
    "\n",
    "    percent = score * 100 / 5\n",
    "    passfail = \"\"\n",
    "\n",
    "    if percent < 70:\n",
    "        passfail = \"failed\"\n",
    "    else:\n",
    "        passfail = \"passed\"\n",
    "\n",
    "    print(\"You \" + str(passfail) + \" the test with \" + str(percent) + \"%.\")\n",
    "\n",
    "questionloop(questions)"
   ]
  },
  {
   "cell_type": "markdown",
   "metadata": {},
   "source": [
    "### Hacks\n",
    "\n",
    "Here are some ideas of things you can do to make your program even cooler. Doing these will raise your grade if done correctly.\n",
    "\n",
    "- Add more than five questions with more than three answer choices\n",
    "- Randomize the order in which questions/answers are output\n",
    "- At the end, display the user's score and determine whether or not they passed\n",
    "\n",
    "## Challenges\n",
    "\n",
    "<mark>Important!</mark> You don't have to complete these challenges completely perfectly, but you will be marked down if you don't show evidence of at least having tried these challenges in the time we gave during the lesson.\n",
    "\n",
    "### 3.10 Challenge\n",
    "\n",
    "Follow the instructions in the code comments."
   ]
  },
  {
   "cell_type": "code",
   "execution_count": null,
   "metadata": {},
   "outputs": [],
   "source": []
  },
  {
   "cell_type": "code",
   "execution_count": 11,
   "metadata": {},
   "outputs": [
    {
     "name": "stdout",
     "output_type": "stream",
     "text": [
      "carrots\n",
      "carrots\n",
      "artichokes\n",
      "['apples', 'eggs', 'artichokes', 'carrots', 'cucumbers', 'umbrellas', 'artichokes']\n"
     ]
    }
   ],
   "source": [
    "grocery_list = ['apples', 'milk', 'oranges', 'carrots', 'cucumbers']\n",
    "\n",
    "# Print the fourth item in the list\n",
    "print(grocery_list[3])\n",
    "\n",
    "# Now, assign the fourth item in the list to a variable, x and then print the variable\n",
    "x = grocery_list[3]\n",
    "print(x)\n",
    "# Add these two items at the end of the list : umbrellas and artichokes\n",
    "grocery_list.append(\"umbrellas\")\n",
    "grocery_list.append(\"artichokes\")\n",
    "\n",
    "\n",
    "# Insert the item eggs as the third item of the list \n",
    "grocery_list.insert(2,\"eggs\")\n",
    "\n",
    "# Remove milk from the list \n",
    "grocery_list.remove(\"milk\")\n",
    "\n",
    "# Assign the element at the end of the list to index 2. Print index 2 to check\n",
    "grocery_list[2] = grocery_list[6]\n",
    "print(grocery_list[2])\n",
    "\n",
    "# Print the entire list, does it match ours ? \n",
    "print(grocery_list)\n",
    "\n",
    "# Expected output\n",
    "# carrots\n",
    "# carrots\n",
    "# artichokes\n",
    "# ['apples', 'eggs', 'artichokes', 'carrots', 'cucumbers', 'umbrellas', 'artichokes']"
   ]
  },
  {
   "cell_type": "markdown",
   "metadata": {},
   "source": [
    "### 3.8 Challenge\n",
    "\n",
    "Create a loop that <mark>converts 8-bit binary values</mark> from the provided list into <mark>decimal numbers</mark>. Then, after the value is determined, <mark>remove all the values greater than 100</mark> from the list using a list-related function you've been taught before. <mark>Print the new list</mark> when done.\n",
    "\n",
    "Once you've done this with one of the types of loops discussed in this lesson, create a function that does the same thing with a *different* type of loop."
   ]
  },
  {
   "cell_type": "code",
   "execution_count": 1,
   "metadata": {},
   "outputs": [
    {
     "name": "stdout",
     "output_type": "stream",
     "text": [
      "[73, 170, 150, 55, 236, 209, 129]\n",
      "[73, 150, 55, 209]\n"
     ]
    }
   ],
   "source": [
    "#the greater than operator is not working properly but i think the code would work otherwise\n",
    "\n",
    "binarylist = [\n",
    "    \"01001001\", \"10101010\", \"10010110\", \"00110111\", \"11101100\", \"11010001\", \"10000001\"\n",
    "]\n",
    "newlist = []\n",
    "def binary_convert(binary):\n",
    "    dec = 0\n",
    "    i = 7\n",
    "    for num in str(binary):\n",
    "        if int(num) == 1:\n",
    "            dec += 2**i\n",
    "            i -= 1\n",
    "            continue\n",
    "        else:\n",
    "            i -= 1\n",
    "            continue\n",
    "    newlist.append(dec)\n",
    "\n",
    "for x in binarylist:\n",
    "    binary_convert(x)\n",
    "\n",
    "print(newlist)\n",
    "\n",
    "for new in newlist:\n",
    "    if new > 100:\n",
    "        newlist.remove(new)\n",
    "\n",
    "print(newlist)\n"
   ]
  }
 ],
 "metadata": {
  "kernelspec": {
   "display_name": "Python 3.8.10 64-bit",
   "language": "python",
   "name": "python3"
  },
  "language_info": {
   "codemirror_mode": {
    "name": "ipython",
    "version": 3
   },
   "file_extension": ".py",
   "mimetype": "text/x-python",
   "name": "python",
   "nbconvert_exporter": "python",
   "pygments_lexer": "ipython3",
   "version": "3.8.10"
  },
  "orig_nbformat": 4,
  "vscode": {
   "interpreter": {
    "hash": "916dbcbb3f70747c44a77c7bcd40155683ae19c65e1c03b4aa3499c5328201f1"
   }
  }
 },
 "nbformat": 4,
 "nbformat_minor": 2
}
