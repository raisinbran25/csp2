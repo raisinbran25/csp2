{
 "cells": [
  {
   "attachments": {},
   "cell_type": "markdown",
   "metadata": {},
   "source": [
    "KASM HACKS:\n",
    "\n",
    "In 3-4 sentences, please explain the significance of virtual desktops and KASM. How can virtual desktops such as these be utilized in our AP CSP environment? (0.45)\n",
    "\n",
    "Virtual desktops are computers within computers. This is helpful because you can test or perform something that could otherwise be harmful to a real computer. It can be easily disposed of if something happens to it. A virtual desktop can be utilized in APCSP to test the abilities of a computer with specific hardware/software.\n",
    "\n",
    "Attempt to work through the KASM setup with your team. Attach two screenshots to show that you have successfully gone through the setup: The first screenshot of KASM generating your credentials, and the second screenshot of the KASM workspace once you have logged in. (0.45)\n",
    "\n",
    "My credentials for aws are not working, so I could not attempt the KASM setup. However, I managed to set up a virtual kali linux desktop on my own, below is a screenshot.\n",
    "\n",
    "![vm](https://raw.githubusercontent.com/raisinbran25/csp2/master/images/vm.JPG)"
   ]
  },
  {
   "attachments": {},
   "cell_type": "markdown",
   "metadata": {},
   "source": [
    "AWS DATABASES HACKS: \n",
    "\n",
    "Quiz 1:\n",
    "\n",
    "What is the main difference between relational and non-relational databases?\n",
    "\n",
    "C. Relational databases are based on tables and use SQL, while non-relational databases are based on collections and use JSON-like documents.\n",
    "\n",
    "Which AWS database service is best suited for applications that require low-latency speed?\n",
    "\n",
    "A. Amazon ElastiCache\n",
    "\n",
    "What is the purpose of the code example provided in the lesson?\n",
    "\n",
    "D. To showcase how to insert data into a MySQL table.\n",
    "\n",
    "Quiz 2:\n",
    "\n",
    "Which of the following is not an AWS database option?\n",
    "\n",
    "C. SQLite\n",
    "\n",
    "Which of the following is a file-based, lightweight RDBMS?\n",
    "\n",
    "A. Amazon RDS\n",
    "\n",
    "Which AWS service enables you to store and query highly connected datasets?\n",
    "\n",
    "C. Amazon Neptune"
   ]
  },
  {
   "attachments": {},
   "cell_type": "markdown",
   "metadata": {},
   "source": [
    "DuckDNS and AWS HACKS:\n",
    "\n",
    "HACK 1: Create a diagram (Canva). What are the pros and cons of using DuckDNS? Show a diagram of an application running on AWS using a DuckDNS system.\n",
    "\n",
    "![duckdns](https://raw.githubusercontent.com/raisinbran25/csp2/master/images/duckdns.png)\n",
    "\n",
    "HACK 2: Write a reflection. Why do we use DNS? How does DuckDNS work? What makes DuckDNS unique? How is DuckDNS useful for our projects? What are the steps to setup DuckDNS?\n",
    "\n",
    "We use DNS to make a website public instead of limiting it to a local website. It works by assigning a domain name to a dynamic ip address. DuckDNS is unique because it is free of cost. It is useful for our projects because it allows other people to access our project from their device. To set up DuckDNS, sign in with github, create a url, add ip, and create domain."
   ]
  },
  {
   "attachments": {},
   "cell_type": "markdown",
   "metadata": {},
   "source": [
    "CERTBOT HACKS:\n",
    "\n",
    "Follow the instructions below and provide a full screenshot of all terminal commands after and including sudo certbot --apache all the way until it asks for the domain you want to secure. At this point you can take a screenshot and cancel the process. If you choose to continue the setup process and get Certbot fully working and show a before and after screenshot of your domain with http amd https connection we will grant extra credit points on hacks, or make up for lost points in other areas. \n",
    "\n",
    "I had trouble trying to run the sudo apt-get install python3-certbot-apache command, below is the error.\n",
    "\n",
    "![certbot](https://raw.githubusercontent.com/raisinbran25/csp2/master/images/certbot.png)\n",
    "\n",
    "Research and compare the security features of OpenSSL and LibreSSL, and write about the recent vulnerabilities within it. Write about your research in a fastpages blog post. It can be the same post that has your screenshot for the Certbot Hacks.\n",
    "\n",
    "One recent vulnerability of OpenSSL I found was CVE-2023-0465. According to OpenSSL, \"Applications that use a non-default option when verifying certificates may be vulnerable to an attack from a malicious CA to circumvent certain checks\" because \"Invalid certificate policies in leaf certificates are silently ignored by OpenSSL and other certificate policy checks are skipped for that certificate. A malicious CA could use this to deliberately assert invalid certificate policies in order to circumvent policy checking on the certificate altogether.\""
   ]
  }
 ],
 "metadata": {
  "language_info": {
   "name": "python"
  },
  "orig_nbformat": 4
 },
 "nbformat": 4,
 "nbformat_minor": 2
}
