{
 "cells": [
  {
   "cell_type": "markdown",
   "metadata": {},
   "source": [
    "# HTML Hacks\n",
    "\n",
    "- toc: true\n",
    "- comments: true\n",
    "- categories: [Week2]"
   ]
  },
  {
   "cell_type": "markdown",
   "metadata": {},
   "source": [
    "Below is an image of my website with the cayman theme. One issue that I noticed with this remote theme is that my links that are normally in the top right of my front page are missing.   \n",
    "![]({{site.baseurl}}/images/cayman.png \"https://github.com/raisinbran25/csp2\")\n"
   ]
  },
  {
   "cell_type": "markdown",
   "metadata": {},
   "source": [
    "Below is the \"tags\" page of my website. I have tags for each week, which are in the front matter of each notebook.  \n",
    "![]({{site.baseurl}}/images/cats.png \"https://github.com/raisinbran25/csp2\")"
   ]
  },
  {
   "cell_type": "markdown",
   "metadata": {},
   "source": [
    "Here are two images showing my \"Search\" page. By searching for the tag for a specific week, all of the notebooks from that week appear.  \n",
    "![]({{site.baseurl}}/images/sear0.png \"https://github.com/raisinbran25/csp2\")  \n",
    "![]({{site.baseurl}}/images/sear1.png \"https://github.com/raisinbran25/csp2\")"
   ]
  },
  {
   "cell_type": "markdown",
   "metadata": {},
   "source": [
    "[Here is a link](https://raisinbran25.github.io/csp2/calendar/) to my calendar page. It includes a table organized in a similar way to the class schedule, sorted by weeks and days, and has links to each notebook."
   ]
  }
 ],
 "metadata": {
  "kernelspec": {
   "display_name": "Python 3.9.12 ('base')",
   "language": "python",
   "name": "python3"
  },
  "language_info": {
   "codemirror_mode": {
    "name": "ipython",
    "version": 3
   },
   "file_extension": ".py",
   "mimetype": "text/x-python",
   "name": "python",
   "nbconvert_exporter": "python",
   "pygments_lexer": "ipython3",
   "version": "3.9.12"
  },
  "orig_nbformat": 4,
  "vscode": {
   "interpreter": {
    "hash": "55c5e13967205c3728e2b94d0ab43c33ccb2c0232d17d89ff06ed0b2c18999ab"
   }
  }
 },
 "nbformat": 4,
 "nbformat_minor": 2
}
