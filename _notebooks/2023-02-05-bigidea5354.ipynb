{
 "cells": [
  {
   "attachments": {},
   "cell_type": "markdown",
   "metadata": {},
   "source": [
    "# Big Ideas 5.3, 5.4 Reflection\n",
    "- title: Big Ideas 5.3, 5.4 Reflection\n",
    "- categories: [Week]"
   ]
  },
  {
   "attachments": {},
   "cell_type": "markdown",
   "metadata": {},
   "source": [
    "## 5.3\n",
    "  \n",
    "Google “What age groups use Facebook” vs “… TikTok”? What does the data say? Is there purposeful exclusion in these platforms? Is it harmful? Should it be corrected? Is it good business?  \n",
    "Facebook is typically used by the older generation while TikTok is used by younger ones. I do not think it is harmful because different sides of the age spectrum have different interests in entertainment, and seperation of these apps are ideal.  \n",
    "  \n",
    "Why do virtual assistants have female voices? Amazon, Alexa Google, Apple Siri. Was this purposeful? Is it harmful? Should it be corrected? Is it good business?  \n",
    "I believe that virtual assistants have female voices by coincidence in the process of creating them. I don't think companies would purposefully use a certain gender with malicious intent.  \n",
    "  \n",
    "Talk about an algorithm that influences your decisions, think about these companies (ie FAANG - Facebook, Amazon, Apple,Netflix, Google)  \n",
    "One algorithm that influences decisions is Google. I saw a video where Google and listen through a device's microphone and give targeted ads based on what is heard.  \n",
    "  \n",
    "Watch the video… HP computers are racist\n",
    "Come up with some thoughts on the video and be ready to discuss them as I call on you.  \n",
    "I believe that the phenomenon in the video is not intentional, but a mistake due to a lack of testing. If the technology was tested on a wider variety of skin tones, the problem would have been solved before it was published. This is an example of the importance of thorough testing."
   ]
  },
  {
   "attachments": {},
   "cell_type": "markdown",
   "metadata": {},
   "source": [
    "## 5.4\n",
    "  \n",
    "CompSci has 150 ish principles students. Describe a crowdsource idea and how you might initiate it in our environment?  \n",
    "One crowdsouce idea that can be initiated in CSP is a rating 1-10 of difficulty and enjoyment of other classes compared to CSP, which could be used to reccomend CSP to certain students.  \n",
    "  \n",
    "What about Del Norte crowdsourcing? Could your project be better with crowdsourcing?  \n",
    "Crowdsourcing from as many students as possible from Del Norte, or even other schools, would make the data and reccomndations for CSP more accurate.  \n",
    "  \n",
    "What kind of data could you capture at N@tM to make evening interesting? Perhaps use this data to impress Teachers during finals week.  \n",
    "The scores of minesweeper can be collected at N@TM and used to increase or decrease difficulty to make the optimal game for enjoyment."
   ]
  }
 ],
 "metadata": {
  "kernelspec": {
   "display_name": "base",
   "language": "python",
   "name": "python3"
  },
  "language_info": {
   "codemirror_mode": {
    "name": "ipython",
    "version": 3
   },
   "file_extension": ".py",
   "mimetype": "text/x-python",
   "name": "python",
   "nbconvert_exporter": "python",
   "pygments_lexer": "ipython3",
   "version": "3.9.12"
  },
  "orig_nbformat": 4,
  "vscode": {
   "interpreter": {
    "hash": "55c5e13967205c3728e2b94d0ab43c33ccb2c0232d17d89ff06ed0b2c18999ab"
   }
  }
 },
 "nbformat": 4,
 "nbformat_minor": 2
}
