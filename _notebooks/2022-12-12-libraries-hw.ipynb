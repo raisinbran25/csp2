{
 "cells": [
  {
   "attachments": {},
   "cell_type": "markdown",
   "metadata": {},
   "source": [
    "# Unit 3 Sections 14-15 Homework\n",
    "> Here are the instructions for the homework for sections 14-15.\n",
    "\n",
    "- toc: true\n",
    "- comments: true\n",
    "- categories: [Week13]\n",
    "- image: /images/college-board-logo.png"
   ]
  },
  {
   "attachments": {},
   "cell_type": "markdown",
   "metadata": {},
   "source": [
    "Create a program that asks the user for a day and then gives them a distance in days between that day and another random day in the year. We have provided you with a possible starter, but you are welcome to change it up if you would like."
   ]
  },
  {
   "cell_type": "code",
   "execution_count": 17,
   "metadata": {},
   "outputs": [
    {
     "name": "stdout",
     "output_type": "stream",
     "text": [
      "6/7/2022\n",
      "2/27/2022\n",
      "there are 100 days between 2/27/2022 and 6/7/2022\n"
     ]
    }
   ],
   "source": [
    "import random\n",
    "\n",
    "days_dictionary = {\n",
    "    1: 31,\n",
    "    2: 28,\n",
    "    3: 31,\n",
    "    4: 30,\n",
    "    5: 31,\n",
    "    6: 30,\n",
    "    7: 31,\n",
    "    8: 31,\n",
    "    9: 30,\n",
    "    10: 31,\n",
    "    11: 30,\n",
    "    12: 31,\n",
    "}\n",
    "\n",
    "\n",
    "uday = int(input(\"input a day\"))\n",
    "umonth = int(input(\"input a month\"))\n",
    "year = int(input(\"input a year\"))\n",
    "udate = str(umonth) + \"/\" + str(uday) + \"/\" + str(year)\n",
    "print(udate)\n",
    "\n",
    "rmonth = random.randint(1,12)\n",
    "rdayrange = days_dictionary.get(rmonth)\n",
    "rday = random.randint(0,rdayrange)\n",
    "rdate = str(rmonth) + \"/\" + str(rday) + \"/\" + str(year)\n",
    "print(rdate)\n",
    "\n",
    "def absdays(month,day):\n",
    "    abs = 0\n",
    "\n",
    "    for i in range (1,month):\n",
    "        abs += (days_dictionary.get(i))\n",
    "\n",
    "    abs += day\n",
    "    return(abs)\n",
    "\n",
    "uabs = absdays(umonth,uday)\n",
    "rabs = absdays(rmonth,rday)\n",
    "diff = abs(uabs - rabs)\n",
    "\n",
    "print(\"there are \" + str(diff) + \" days between \" + rdate + \" and \" + udate)"
   ]
  }
 ],
 "metadata": {
  "kernelspec": {
   "display_name": "Python 3",
   "language": "python",
   "name": "python3"
  },
  "language_info": {
   "codemirror_mode": {
    "name": "ipython",
    "version": 3
   },
   "file_extension": ".py",
   "mimetype": "text/x-python",
   "name": "python",
   "nbconvert_exporter": "python",
   "pygments_lexer": "ipython3",
   "version": "3.8.10 (default, Jun 22 2022, 20:18:18) \n[GCC 9.4.0]"
  },
  "orig_nbformat": 4,
  "vscode": {
   "interpreter": {
    "hash": "916dbcbb3f70747c44a77c7bcd40155683ae19c65e1c03b4aa3499c5328201f1"
   }
  }
 },
 "nbformat": 4,
 "nbformat_minor": 2
}
