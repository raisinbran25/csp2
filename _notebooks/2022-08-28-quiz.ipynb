{
 "cells": [
  {
   "cell_type": "markdown",
   "metadata": {},
   "source": [
    "# My Python Quiz\n",
    "\n",
    "- toc: true\n",
    "- comments: true\n",
    "- categories: [Week1]"
   ]
  },
  {
   "cell_type": "markdown",
   "metadata": {},
   "source": [
    "Below, I used python to make a quiz. I first defined a function that prints the argument(question) given. I added some pre quiz questions to collect the name and if they are ready to take the quiz. After that, I used a for loop and enumerate function to use the corresponding questions and answers in my question function. Lastly, I used some math operations to calculate the percentage that the person scored on the quiz."
   ]
  },
  {
   "cell_type": "code",
   "execution_count": 3,
   "metadata": {},
   "outputs": [
    {
     "name": "stdout",
     "output_type": "stream",
     "text": [
      "what is your name?\n",
      "jaden, are you ready to take a quiz?\n",
      "ok, good luck!\n",
      "What command is used to include other functions that were previously developed?\n",
      "your answer, import, is correct!\n",
      "What command is used to evaluate correct or incorrect response in this example?\n",
      "your answer, if, is correct!\n",
      "Each 'if' command contains an '_________' to determine a true or false condition?\n",
      "your answer, expression, is correct!\n",
      "good job jaden, you scored 100.0 percent on this quiz!\n"
     ]
    }
   ],
   "source": [
    "#defining a general question function, asks the question \"qna\"\n",
    "def gen(qna):\n",
    "    print(qna)\n",
    "    msg = input()\n",
    "    return msg\n",
    "\n",
    "corrqs = 0 #used to determine score\n",
    "\n",
    "#pre quiz questions: name, \"are you ready?\"\n",
    "print(\"what is your name?\")\n",
    "name = input()\n",
    "print(name + \", are you ready to take a quiz?\")\n",
    "ans = input()\n",
    "if ans == \"yes\":\n",
    "    print(\"ok, good luck!\")\n",
    "else:\n",
    "    print(\"ok, bye!\")\n",
    "    quit()\n",
    "\n",
    "#lists including questions and answers\n",
    "questions = [\"What command is used to include other functions that were previously developed?\", \"What command is used to evaluate correct or incorrect response in this example?\", \"Each 'if' command contains an '_________' to determine a true or false condition?\"]\n",
    "answers = [\"import\", \"if\", \"expression\"]\n",
    "#for loop, looping the questions function with questions and answers from lists\n",
    "for i, question in enumerate(questions):\n",
    "    answer = answers[i]\n",
    "    resp = gen(question)    \n",
    "    if resp == (answer):\n",
    "        print(\"your answer, \" + str(resp) +  \", is correct!\")\n",
    "        corrqs += 1\n",
    "    else:\n",
    "        print(\"your answer, \" + str(resp) +  \", is incorrect!\")\n",
    "\n",
    "numqs = len(questions) #also used to determine score\n",
    "score = (corrqs/numqs) #correct questions/total questions ratio(decimal)\n",
    "per = (score * 100) # multiply by 100 for percentage\n",
    "print(\"good job \" + name + \", you scored \" + str(per) + \" percent on this quiz!\") #final message with score"
   ]
  }
 ],
 "metadata": {
  "kernelspec": {
   "display_name": "Python 3.10.4 64-bit",
   "language": "python",
   "name": "python3"
  },
  "language_info": {
   "codemirror_mode": {
    "name": "ipython",
    "version": 3
   },
   "file_extension": ".py",
   "mimetype": "text/x-python",
   "name": "python",
   "nbconvert_exporter": "python",
   "pygments_lexer": "ipython3",
   "version": "3.8.10"
  },
  "orig_nbformat": 4,
  "vscode": {
   "interpreter": {
    "hash": "916dbcbb3f70747c44a77c7bcd40155683ae19c65e1c03b4aa3499c5328201f1"
   }
  }
 },
 "nbformat": 4,
 "nbformat_minor": 2
}
