{
 "cells": [
  {
   "attachments": {},
   "cell_type": "markdown",
   "metadata": {},
   "source": [
    "# Grading AP submissions 3\n",
    "- title: Grading AP submissions 3\n",
    "- categories: [Week]"
   ]
  },
  {
   "attachments": {},
   "cell_type": "markdown",
   "metadata": {},
   "source": [
    "## Submission 1 Grading\n",
    "\n",
    "| Row # | Row Name | Score | Comments |\n",
    "| :---: | :---: | :---: | :---: |\n",
    "| Row 1 | Program Purpose and Function | 1/1 | All criteria is met |\n",
    "| Row 2 | Data Abstraction | 0/1 | Data is not stored in any list |\n",
    "| Row 3 | Managing Complexity | 0/1 | Lots of repeated code that could be shortened, complexity not managed |\n",
    "| Row 4 | Procedural Abstraction | 0/1 | Shows function being defined, but not function being called |\n",
    "| Row 5 | Algorithm Implementation | 1/1 | All criteria is met |\n",
    "| Row 6 | Testing | 1/1 | All criteria is met |\n",
    "\n",
    "## Submission 1 Discrepancies/Notes  \n",
    "Same score, but Row 2 has a list. However, no data is appended to the list."
   ]
  },
  {
   "attachments": {},
   "cell_type": "markdown",
   "metadata": {},
   "source": [
    "## Submission 2 Grading\n",
    "\n",
    "| Row # | Row Name | Score | Comments |\n",
    "| :---: | :---: | :---: | :---: |\n",
    "| Row 1 | Program Purpose and Function | 1/1 | All criteria is met |\n",
    "| Row 2 | Data Abstraction | 1/1 | All criteria is met |\n",
    "| Row 3 | Managing Complexity | 1/1 | All criteria is met |\n",
    "| Row 4 | Procedural Abstraction | 1/1 | All criteria is met |\n",
    "| Row 5 | Algorithm Implementation | 1/1 | All criteria is met |\n",
    "| Row 6 | Testing | 1/1 | All criteria is met |\n",
    "\n",
    "## Submission 2 Discrepancies/Notes  \n",
    "None, submission goes above and beyond such as the inputs shown in the video. Good example for perfect score."
   ]
  },
  {
   "attachments": {},
   "cell_type": "markdown",
   "metadata": {},
   "source": [
    "## Submission 3 Grading\n",
    "\n",
    "| Row # | Row Name | Score | Comments |\n",
    "| :---: | :---: | :---: | :---: |\n",
    "| Row 1 | Program Purpose and Function | 1/1 | All criteria is met |\n",
    "| Row 2 | Data Abstraction | 0/1 | The specified list \"stateList\" only has one element. |\n",
    "| Row 3 | Managing Complexity | 0/1 | Each list only has one element, which doesn't manage complexity. |\n",
    "| Row 4 | Procedural Abstraction | 1/1 | All criteria is met |\n",
    "| Row 5 | Algorithm Implementation | 0/1 | Procedure updateScreen does not have iteration. |\n",
    "| Row 6 | Testing | 0/1 | Describes two calls two two different procedures, one is not specified earlier. |\n",
    "\n",
    "## Submission 3 Discrepancies/Notes  \n",
    "Row 4: procedure does not have a parameter and therefore does not meet the criteria."
   ]
  },
  {
   "attachments": {},
   "cell_type": "markdown",
   "metadata": {},
   "source": [
    "## Submission 4 Grading\n",
    "\n",
    "| Row # | Row Name | Score | Comments |\n",
    "| :---: | :---: | :---: | :---: |\n",
    "| Row 1 | Program Purpose and Function | 1/1 | All criteria is met |\n",
    "| Row 2 | Data Abstraction | 1/1 | All criteria is met |\n",
    "| Row 3 | Managing Complexity | 1/1 | All criteria is met |\n",
    "| Row 4 | Procedural Abstraction | 1/1 | All criteria is met |\n",
    "| Row 5 | Algorithm Implementation | 1/1 | All criteria is met |\n",
    "| Row 6 | Testing | 0/1 | Procedure is specified, but not inputted parameters. |\n",
    "\n",
    "## Submission 4 Discrepancies  \n",
    "None, purpose and function could have been more explicitly seperated."
   ]
  }
 ],
 "metadata": {
  "kernelspec": {
   "display_name": "base",
   "language": "python",
   "name": "python3"
  },
  "language_info": {
   "codemirror_mode": {
    "name": "ipython",
    "version": 3
   },
   "file_extension": ".py",
   "mimetype": "text/x-python",
   "name": "python",
   "nbconvert_exporter": "python",
   "pygments_lexer": "ipython3",
   "version": "3.9.12 (main, Apr  5 2022, 06:56:58) \n[GCC 7.5.0]"
  },
  "orig_nbformat": 4,
  "vscode": {
   "interpreter": {
    "hash": "55c5e13967205c3728e2b94d0ab43c33ccb2c0232d17d89ff06ed0b2c18999ab"
   }
  }
 },
 "nbformat": 4,
 "nbformat_minor": 2
}
