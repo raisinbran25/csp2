{
 "cells": [
  {
   "attachments": {},
   "cell_type": "markdown",
   "metadata": {},
   "source": [
    "# Grading AP submissions 2\n",
    "- title: Grading AP submissions 2\n",
    "- categories: [Week]"
   ]
  },
  {
   "attachments": {},
   "cell_type": "markdown",
   "metadata": {},
   "source": [
    "## Submission 1 Grading\n",
    "\n",
    "| Row # | Row Name | Score | Comments |\n",
    "| :---: | :---: | :---: | :---:|\n",
    "| Row 1 | Program Purpose and Function | 0/1 | explains purpose but does not show functionality, actual actions of code |\n",
    "| Row 2 | Data Abstraction | 0/1 | does not contain code segments that show how data is stored |\n",
    "| Row 3 | Managing Complexity | 0/1 | does not conatin code segments that show how complexity is managed |\n",
    "| Row 4 | Procedural Abstraction | 1/1 | all criteria is met, shows and explains procedure with code |\n",
    "| Row 5 | Algorithm Implementation | 0/1 | contains sequencing, iteration, and selection with code but lacks depth in explanation |\n",
    "| Row 6 | Testing | 1/1 | shows two calls, their conditions, and their results |"
   ]
  },
  {
   "attachments": {},
   "cell_type": "markdown",
   "metadata": {},
   "source": [
    "## Submission 1 Discrepancies  \n",
    "Row 4: student does not explain how functionality contributes to overall functionality of program"
   ]
  },
  {
   "attachments": {},
   "cell_type": "markdown",
   "metadata": {},
   "source": [
    "## Submission 2  \n",
    "\n",
    "| Row # | Row Name | Score | Comments |\n",
    "| :---: | :---: | :---: | :---: |\n",
    "| Row 1 | Program Purpose and Function | 1/1 | all criteria is met, shows input, output in video and explains in writing |\n",
    "| Row 2 | Data Abstraction | 1/1 | all criteria is met, explains lists used in code and identifies/explains variables, describes what variables mean in program,  |\n",
    "| Row 3 | Managing Complexity | 1/1 | all criteria is met, shows code segment , explains how it manages complexity |\n",
    "| Row 4 | Procedural Abstraction | 1/1 | all criteria is met, shows two code segments with procedure and call, contribution to overall funcitonality |\n",
    "| Row 5 | Algorithm Implementation | 1/1 | all criteria is met, algorithm shown includes sequencing, selection, and iteration in deatiled steps |\n",
    "| Row 6 | Testing | 1/1 | all criteria is met, describes two unique procedure calls and what the procedure does, result of each call |"
   ]
  },
  {
   "attachments": {},
   "cell_type": "markdown",
   "metadata": {},
   "source": [
    "Discrepancy: none"
   ]
  },
  {
   "attachments": {},
   "cell_type": "markdown",
   "metadata": {},
   "source": [
    "## Submission 3  \n",
    "\n",
    "| Row # | Row Name | Score | Comments |\n",
    "| :---: | :---: | :---: | :---: |\n",
    "| Row 1 | Program Purpose and Function | 0/1 | The explanation describes the purpose but not function of the program |\n",
    "| Row 2 | Data Abstraction | 1/1 | all criteria is met, explains lists used in code and identifies/explains variables, describes what variables mean in program  |\n",
    "| Row 3 | Managing Complexity | 1/1 | all criteria is met, shows firstCharacterlist list, explains how it manages complexity |\n",
    "| Row 4 | Procedural Abstraction | 1/1 | all criteria is met, shows two code segments with procedure and call, contribution to overall funcitonality |\n",
    "| Row 5 | Algorithm Implementation | 1/1 | all criteria is met, algorithm \"findwinner\" shown explains sequencing, selection, and iteration in deatil |\n",
    "| Row 6 | Testing | 1/1 | all criteria is met, describes two unique procedure calls with two different characrter pairs and what the procedure does, result of each call |"
   ]
  },
  {
   "attachments": {},
   "cell_type": "markdown",
   "metadata": {},
   "source": [
    "Discrepancy: none"
   ]
  },
  {
   "attachments": {},
   "cell_type": "markdown",
   "metadata": {},
   "source": [
    "## Submission 4  \n",
    "\n",
    "| Row # | Row Name | Score | Comments |\n",
    "| :---: | :---: | :---: | :---: |\n",
    "| Row 1 | Program Purpose and Function | 1/1 | all criteria is met, shows different letter inputs like f, r, a in video and explains in writing |\n",
    "| Row 2 | Data Abstraction | 0/1 | shows variable/name of list and append action in code, but does not show actual list |\n",
    "| Row 3 | Managing Complexity | 1/1 | all criteria is met, proves complexity management with explanation and code segments |\n",
    "| Row 4 | Procedural Abstraction | 1/1 | all criteria is met, explains function isitcorrect with parameters and how it contributes to program |\n",
    "| Row 5 | Algorithm Implementation | 1/1 | all criteria is met, algorithm shown includes sequencing, selection, and iteration, and explains in detail |\n",
    "| Row 6 | Testing | 0/1 | all criteria is met, states two unique procedure calls and what the procedure does but does not state specific call in context of code/program |"
   ]
  },
  {
   "attachments": {},
   "cell_type": "markdown",
   "metadata": {},
   "source": [
    "Discrepancy: In Row 3, the student shows how the code manages complexity but does not explain it in words."
   ]
  }
 ],
 "metadata": {
  "kernelspec": {
   "display_name": "base",
   "language": "python",
   "name": "python3"
  },
  "language_info": {
   "codemirror_mode": {
    "name": "ipython",
    "version": 3
   },
   "file_extension": ".py",
   "mimetype": "text/x-python",
   "name": "python",
   "nbconvert_exporter": "python",
   "pygments_lexer": "ipython3",
   "version": "3.9.12 (main, Apr  5 2022, 06:56:58) \n[GCC 7.5.0]"
  },
  "orig_nbformat": 4,
  "vscode": {
   "interpreter": {
    "hash": "55c5e13967205c3728e2b94d0ab43c33ccb2c0232d17d89ff06ed0b2c18999ab"
   }
  }
 },
 "nbformat": 4,
 "nbformat_minor": 2
}
