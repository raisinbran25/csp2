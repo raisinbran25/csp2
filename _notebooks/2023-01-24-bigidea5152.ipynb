{
 "cells": [
  {
   "attachments": {},
   "cell_type": "markdown",
   "metadata": {},
   "source": [
    "# Big Ideas 5.1, 5.2\n",
    "- title: Big Ideas 5.1, 5.2\n",
    "- categories: [Week]"
   ]
  }
 ],
 "metadata": {
  "kernelspec": {
   "display_name": "base",
   "language": "python",
   "name": "python3"
  },
  "language_info": {
   "codemirror_mode": {
    "name": "ipython",
    "version": 3
   },
   "file_extension": ".py",
   "mimetype": "text/x-python",
   "name": "python",
   "nbconvert_exporter": "python",
   "pygments_lexer": "ipython3",
   "version": "3.9.12 (main, Apr  5 2022, 06:56:58) \n[GCC 7.5.0]"
  },
  "orig_nbformat": 4,
  "vscode": {
   "interpreter": {
    "hash": "55c5e13967205c3728e2b94d0ab43c33ccb2c0232d17d89ff06ed0b2c18999ab"
   }
  }
 },
 "nbformat": 4,
 "nbformat_minor": 2
}
