{
 "cells": [
  {
   "attachments": {},
   "cell_type": "markdown",
   "metadata": {},
   "source": [
    "# Big Ideas 5.1, 5.2 Reflection\n",
    "- title: Big Ideas 5.1, 5.2 Reflection\n",
    "- categories: [Week]"
   ]
  },
  {
   "attachments": {},
   "cell_type": "markdown",
   "metadata": {},
   "source": [
    "## 5.1\n",
    "\n",
    "Come up with three of your own Beneficial and corresponding Harmful Effects of Computing:  \n",
    "1. McDonalds digital ordering station: One benefit of digital ordering stations is that the load on human cashiers is lowered. A harmful effect is that exploits can be found in algorithm to get free food.  \n",
    "2. EasyBib: A benefit of EasyBib is that students can quickly cite a source. A drawback is that they will not know the structure of a citation and therefore how to do it themselves.  \n",
    "3. Spotify: A benefit of Spotify, it is easier to listen to music anywhere compared to where there is a CD player. A drawback of the technology is that old statistics of music sales are offset by the high amounts of digital streams.\n",
    "\n",
    "Think of three beneficial effects of your projects based on 5.1 Unit.  \n",
    "1. The brain is exercised, it has to think and use logic to determine the location of the mines on the map.  \n",
    "2. Entertainment: If someone is bored, Minesweeper is a fun way to spend time.\n",
    "3. Bonding: You can have a fun competition with friends, family, or strangers on the leaderboard to be the best at Minesweeper.\n",
    "\n",
    "Think of a potential harmful effect of your project.  \n",
    "A drawback of Minesweeper is that one can become addicted to playing, taking time away from other important activities.\n",
    "\n",
    "Talk about dopamine issues above. Real? Parent conspiracy? Anything that is impacting your personal study and success in High School?  \n",
    "Gaming used to affect my life heavily in quarantine, since I was always at home. While I got closer with one friend, my overall social life was lacking. I felt pleasure playing the game and it was sometimes hard to get off. It is important to find a balance."
   ]
  },
  {
   "attachments": {},
   "cell_type": "markdown",
   "metadata": {},
   "source": [
    "## 5.2\n",
    "How does someone empower themself in a digital world?  \n",
    "One can empower themself in a digital world by asking others for help or working for technology themselves. In addition, they should educate themselves on technology.\n",
    "\n",
    "How does someone that is empowered help someone that is not empowered? Describe something you could do at Del Norte HS.  \n",
    "I can help someone by providing them not only with the devices but knowledge to utilize the device. At Del Norte HS, I could start a fundraiser to purchase devices for those in need.\n",
    "\n",
    "Is paper or red tape blocking digital empowerment? Are there such barriers at Del Norte? Elsewhere?  \n",
    "Del Norte internet blockers are usually good, they block the right things. Sometimes they can block an article that isn't malicious or inappropriate, but it is uncommon.\n",
    "\n",
    "Answer with an opinion and learnings so far this year:  What are pros/cons on internet blockers at router and lack of admin password on lab machines at school?  \n",
    "One of the pros of internet blockers at school is blocking games. This helps students stay on task and avoid getting distracted. One of the cons of the internet blockers at school is the restricted use of educational material. For example, in CSP, we had to use a VPN or personal hotspot to bypass blockers to use AWS.\n",
    "\n",
    "What concerns do you have personally about the digital divide?  For yourself or for others.  \n",
    "Personally, I think that digital divide is important even though life in general is unfair. This is because technology is so powerful and can open up many oppurtunities for someone, so we should try to help those who not as fortuante as us.\n"
   ]
  }
 ],
 "metadata": {
  "kernelspec": {
   "display_name": "base",
   "language": "python",
   "name": "python3"
  },
  "language_info": {
   "codemirror_mode": {
    "name": "ipython",
    "version": 3
   },
   "file_extension": ".py",
   "mimetype": "text/x-python",
   "name": "python",
   "nbconvert_exporter": "python",
   "pygments_lexer": "ipython3",
   "version": "3.9.12"
  },
  "orig_nbformat": 4,
  "vscode": {
   "interpreter": {
    "hash": "55c5e13967205c3728e2b94d0ab43c33ccb2c0232d17d89ff06ed0b2c18999ab"
   }
  }
 },
 "nbformat": 4,
 "nbformat_minor": 2
}
