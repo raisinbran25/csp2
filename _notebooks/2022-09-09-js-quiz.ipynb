{
 "cells": [
  {
   "cell_type": "markdown",
   "metadata": {},
   "source": [
    "# JavaScript Quiz\n",
    "\n",
    "- toc: true\n",
    "- comments: true\n",
    "- categories: [Week3]"
   ]
  },
  {
   "cell_type": "markdown",
   "metadata": {},
   "source": [
    "## Planning  \n",
    "\n",
    "Before creating this quiz, my partner and I took a general look at how the App Lab worked, trying out some ideas we could implement in our quiz. We came up with a button function(named \"but\" in my quiz code), which takes two inputs, name and screen. The function takes the user to the specified screen when the button with the specified name is clicked. This is an important function because there are many times when a button leads to a different screen in our quizzes.  \n"
   ]
  },
  {
   "cell_type": "markdown",
   "metadata": {},
   "source": [
    "## Program Purpose and Function  \n",
    "The purpose of this App Lab is to demonstrate different aspects of JavaScript. The function of this App Lab is to create and score a quiz app that has three questions.  \n"
   ]
  },
  {
   "cell_type": "markdown",
   "metadata": {},
   "source": [
    "## Data Abstraction  \n",
    "An example of Data Abstraction in this quiz is the \"colors\" list. It stores multiple values that represent different colors. A random number function takes a random color from the list and sets the background as that color.  \n"
   ]
  },
  {
   "cell_type": "markdown",
   "metadata": {},
   "source": [
    "## Managing Complexity  \n",
    "An example of complexity management in this quiz is the overall organization. The quiz is split into three parts: start, questions, and finish. This can easily be seen in the first part of the code, as each has its own defined function. Later on, each of the functions are called, making the code visually easier to understand.  \n"
   ]
  },
  {
   "cell_type": "markdown",
   "metadata": {},
   "source": [
    "## Procedural Abstraction  \n",
    "One procedure in the quiz is the if statement in the \"finish\" function. It states that if the number of correct answers is greater than the number of questions in the quiz, then the user will be notified that they cheated.  \n"
   ]
  },
  {
   "cell_type": "markdown",
   "metadata": {},
   "source": [
    "## Algorithm Implementation  \n",
    "An algorithm implementaion in the quiz is the for loop in the \"start\" function. It goes through a list of all of the screens in the quiz and changes the background color for each one.  \n"
   ]
  },
  {
   "cell_type": "markdown",
   "metadata": {},
   "source": [
    "## Testing  \n",
    "One way that the quiz can be tested is answering all three questions right one time, and answering only two correct another time. On the first trial, the quiz should show a score of 100 percent. On the second trial, the quiz should show a score of 67 percent.  \n"
   ]
  }
 ],
 "metadata": {
  "kernelspec": {
   "display_name": "Python 3.8.10 64-bit",
   "language": "python",
   "name": "python3"
  },
  "language_info": {
   "name": "python",
   "version": "3.8.10"
  },
  "orig_nbformat": 4,
  "vscode": {
   "interpreter": {
    "hash": "916dbcbb3f70747c44a77c7bcd40155683ae19c65e1c03b4aa3499c5328201f1"
   }
  }
 },
 "nbformat": 4,
 "nbformat_minor": 2
}
