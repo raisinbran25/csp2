{
 "cells": [
  {
   "attachments": {},
   "cell_type": "markdown",
   "metadata": {},
   "source": [
    "# test\n",
    "- title: test\n",
    "- categories: [Week]"
   ]
  },
  {
   "cell_type": "code",
   "execution_count": 49,
   "metadata": {},
   "outputs": [
    {
     "name": "stdout",
     "output_type": "stream",
     "text": [
      "['Croatia', 'Australia']\n",
      "['Mexico', 'Greece']\n",
      "['Serbia', \"'Murica\"]\n",
      "['Italy', 'Spain']\n"
     ]
    }
   ],
   "source": [
    "import random\n",
    "\n",
    "def randomize():\n",
    "    \n",
    "    teams = [\"Greece\",\"Mexico\",\"Italy\",\"'Murica\",\"Spain\",\"Croatia\",\"Serbia\",\"Australia\"]\n",
    "    used = []\n",
    "    m1 = []\n",
    "    m2 = []\n",
    "    m3 = []\n",
    "    m4 = []\n",
    "\n",
    "    def matchmake(mat,number):\n",
    "        ri = random.randint(0,(7 - (2 * (number - 1))))\n",
    "        mat.append(teams[ri])\n",
    "        teams.remove(teams[ri])\n",
    "        ri = random.randint(0,(6 - (2 * (number - 1))))\n",
    "        mat.append(teams[ri])\n",
    "        teams.remove(teams[ri])\n",
    "        print(mat)\n",
    "    \n",
    "    matchmake(m1,1)\n",
    "    matchmake(m2,2)\n",
    "    matchmake(m3,3)\n",
    "    matchmake(m4,4)\n",
    "\n",
    "randomize()\n",
    "\n",
    "\n"
   ]
  },
  {
   "cell_type": "code",
   "execution_count": 27,
   "metadata": {},
   "outputs": [
    {
     "name": "stdout",
     "output_type": "stream",
     "text": [
      "[ 'Italy', 'Spain' ]\n",
      "[ 'Greece', 'Croatia' ]\n",
      "[ 'Serbia', 'Mexico' ]\n",
      "[ 'Murica', 'Australia' ]\n"
     ]
    }
   ],
   "source": [
    "function randomize() {\n",
    "  teams = [\"Greece\", \"Mexico\", \"Italy\", \"Murica\", \"Spain\", \"Croatia\", \"Serbia\", \"Australia\"];\n",
    "  used = [];\n",
    "  m1 = [];\n",
    "  m2 = [];\n",
    "  m3 = [];\n",
    "  m4 = [];\n",
    "\n",
    "  function matchmake(mat, number) {\n",
    "    ri = Math.floor(Math.random() * (7 - 2 * (number - 1)))\n",
    "    mat.push(teams[ri]);\n",
    "    teams.splice(ri,1);\n",
    "    ri = Math.floor(Math.random() * (6 - 2 * (number - 1)))\n",
    "    mat.push(teams[ri]);\n",
    "    teams.splice(ri,1);\n",
    "    console.log(mat);\n",
    "  }\n",
    "\n",
    "  matchmake(m1, 1);\n",
    "  matchmake(m2, 2);\n",
    "  matchmake(m3, 3);\n",
    "  matchmake(m4, 4);\n",
    "}\n",
    "\n",
    "randomize();\n"
   ]
  }
 ],
 "metadata": {
  "kernelspec": {
   "display_name": "JavaScript (Node.js)",
   "language": "javascript",
   "name": "javascript"
  },
  "language_info": {
   "file_extension": ".js",
   "mimetype": "application/javascript",
   "name": "javascript",
   "version": "6.11.2"
  },
  "orig_nbformat": 4,
  "vscode": {
   "interpreter": {
    "hash": "55c5e13967205c3728e2b94d0ab43c33ccb2c0232d17d89ff06ed0b2c18999ab"
   }
  }
 },
 "nbformat": 4,
 "nbformat_minor": 2
}
