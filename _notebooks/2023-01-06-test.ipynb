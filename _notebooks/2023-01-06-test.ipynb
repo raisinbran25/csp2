{
 "cells": [
  {
   "attachments": {},
   "cell_type": "markdown",
   "metadata": {},
   "source": [
    "# test\n",
    "- title: test\n",
    "- categories: [Week]"
   ]
  },
  {
   "cell_type": "code",
   "execution_count": 49,
   "metadata": {},
   "outputs": [
    {
     "name": "stdout",
     "output_type": "stream",
     "text": [
      "['Croatia', 'Australia']\n",
      "['Mexico', 'Greece']\n",
      "['Serbia', \"'Murica\"]\n",
      "['Italy', 'Spain']\n"
     ]
    }
   ],
   "source": [
    "import random\n",
    "\n",
    "def randomize():\n",
    "    \n",
    "    teams = [\"Greece\",\"Mexico\",\"Italy\",\"'Murica\",\"Spain\",\"Croatia\",\"Serbia\",\"Australia\"]\n",
    "    used = []\n",
    "    m1 = []\n",
    "    m2 = []\n",
    "    m3 = []\n",
    "    m4 = []\n",
    "\n",
    "    def matchmake(mat,number):\n",
    "        ri = random.randint(0,(7 - (2 * (number - 1))))\n",
    "        mat.append(teams[ri])\n",
    "        teams.remove(teams[ri])\n",
    "        ri = random.randint(0,(6 - (2 * (number - 1))))\n",
    "        mat.append(teams[ri])\n",
    "        teams.remove(teams[ri])\n",
    "        print(mat)\n",
    "    \n",
    "    matchmake(m1,1)\n",
    "    matchmake(m2,2)\n",
    "    matchmake(m3,3)\n",
    "    matchmake(m4,4)\n",
    "\n",
    "randomize()\n",
    "\n",
    "\n"
   ]
  }
 ],
 "metadata": {
  "kernelspec": {
   "display_name": "base",
   "language": "python",
   "name": "python3"
  },
  "language_info": {
   "codemirror_mode": {
    "name": "ipython",
    "version": 3
   },
   "file_extension": ".py",
   "mimetype": "text/x-python",
   "name": "python",
   "nbconvert_exporter": "python",
   "pygments_lexer": "ipython3",
   "version": "3.9.12"
  },
  "orig_nbformat": 4,
  "vscode": {
   "interpreter": {
    "hash": "55c5e13967205c3728e2b94d0ab43c33ccb2c0232d17d89ff06ed0b2c18999ab"
   }
  }
 },
 "nbformat": 4,
 "nbformat_minor": 2
}
