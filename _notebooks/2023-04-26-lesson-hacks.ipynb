{
 "cells": [
  {
   "attachments": {},
   "cell_type": "markdown",
   "metadata": {},
   "source": [
    "Level 1:\n",
    "\n",
    "Final gate is XOR which leads to 1, so input must be 0. The only available gate whose truth tables output 0 for 1 and 0 was XOR, which is why XOR is the correct answer.\n",
    "\n",
    "Level 2: \n",
    "\n",
    "Output of XNOR gate with inputs 0 and 1 is 0. Output of OR gate with inputs 0 and 1 is 1. I chose XNOR for the first gate, with inputs 0 and 1 the output was 0. Combine this 0 input with 1 in the final gate, the only option to output 1 is if the final gate is NAND. The answer is XNOR and XAND."
   ]
  }
 ],
 "metadata": {
  "language_info": {
   "name": "python"
  },
  "orig_nbformat": 4
 },
 "nbformat": 4,
 "nbformat_minor": 2
}
