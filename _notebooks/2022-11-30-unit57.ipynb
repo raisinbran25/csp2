{
 "cells": [
  {
   "cell_type": "markdown",
   "metadata": {},
   "source": [
    "# Unit 5-7 hacks\n",
    "\n",
    "- toc: true\n",
    "- badges: true\n",
    "- comments: true\n",
    "- categories: [Week 13]"
   ]
  },
  {
   "cell_type": "markdown",
   "metadata": {},
   "source": [
    "## Notes  \n",
    "  \n",
    "-Boolean operators produce booleans after a comaprison  \n",
    "-relational operators work between two values of same type(operands)  \n",
    "-AND: true true  \n",
    "-OR: true false/ false true  \n",
    "-NOT: false  \n",
    "-algorithm: set of instructions that accomplish a task  \n",
    "-selection: proccess determining what to do based on a condition  \n",
    "-if/else statements are selction  \n",
    "-nested conditionals: condtion in condition  "
   ]
  },
  {
   "cell_type": "markdown",
   "metadata": {},
   "source": [
    "## Homework/Hacks\n",
    "\n",
    " our homework we have decided for a decimal number to binary converter. You must use conditional statements within your code and have a input box for where the decimal number will go. This will give you a 2.7 out of 3 and you may add anything else to the code to get above a 2.7.\n",
    "\n"
   ]
  },
  {
   "cell_type": "markdown",
   "metadata": {},
   "source": [
    "Below is an example of decimal number to binary converter which you can use as a starting template."
   ]
  },
  {
   "cell_type": "code",
   "execution_count": 20,
   "metadata": {},
   "outputs": [
    {
     "name": "stdout",
     "output_type": "stream",
     "text": [
      "1000101\n"
     ]
    }
   ],
   "source": [
    "def convert(dec):\n",
    "    bin = \"\"\n",
    "    i = 100\n",
    "\n",
    "    while i >= 0:\n",
    "        if int(dec) % (2**i) == dec:\n",
    "            bin = bin + \"0\"\n",
    "            i -= 1\n",
    "        else:\n",
    "            bin = bin + \"1\"\n",
    "            dec -= 2**i\n",
    "            i -= 1\n",
    "    j = 0\n",
    "    while int(bin[j]) == 0:\n",
    "        j += 1\n",
    "    bin = bin[j:len(bin)]\n",
    "\n",
    "    print(bin)\n",
    "\n",
    "var = int(input(\"Choose a number to convert: \"))\n",
    "convert(var)\n"
   ]
  }
 ],
 "metadata": {
  "kernelspec": {
   "display_name": "Python 3.9.6 64-bit",
   "language": "python",
   "name": "python3"
  },
  "language_info": {
   "codemirror_mode": {
    "name": "ipython",
    "version": 3
   },
   "file_extension": ".py",
   "mimetype": "text/x-python",
   "name": "python",
   "nbconvert_exporter": "python",
   "pygments_lexer": "ipython3",
   "version": "3.8.10"
  },
  "orig_nbformat": 4,
  "vscode": {
   "interpreter": {
    "hash": "31f2aee4e71d21fbe5cf8b01ff0e069b9275f58929596ceb00d14d90e3e16cd6"
   }
  }
 },
 "nbformat": 4,
 "nbformat_minor": 2
}
