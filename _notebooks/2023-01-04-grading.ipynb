{
 "cells": [
  {
   "attachments": {},
   "cell_type": "markdown",
   "metadata": {},
   "source": [
    "# Grading AP submissions\n",
    "- title: Grading AP submissions\n",
    "- categories: [Week]"
   ]
  },
  {
   "attachments": {},
   "cell_type": "markdown",
   "metadata": {},
   "source": [
    "## Submission 1\n",
    "\n",
    "| Row # | Row Name | Score | Comments |\n",
    "| :---: | :---: | :---: | :---:|\n",
    "| Row 1 | Program Purpose and Function | 1/1 | all criteria is met, mentions purpose/function |\n",
    "| Row 2 | Data Abstraction | 1/1 | all criteria is met, shows how data is stored |\n",
    "| Row 3 | Managing Complexity | 0/1 | the code does not manage complexity; for example, the \"int\" variables are not needed |\n",
    "| Row 4 | Procedural Abstraction | 1/1 | all criteria is met, describes procedure |\n",
    "| Row 5 | Algorithm Implementation | 1/1 | all criteria is met, sequencing/selection/iteration is shown and explained |\n",
    "| Row 6 | Testing | 1/1 | all criteria is met, enough function calls and adequete explanations"
   ]
  },
  {
   "attachments": {},
   "cell_type": "markdown",
   "metadata": {},
   "source": [
    "Discrepancy: Function is stated but not purpose(0/1 instead of 1/1). I need to make sure that these two are clearly seperate and defined in my project."
   ]
  },
  {
   "attachments": {},
   "cell_type": "markdown",
   "metadata": {},
   "source": [
    "## Submission 2  \n",
    "  \n",
    "| Row # | Row Name | Score | Comments |\n",
    "| :---: | :---: | :---: | :---:|\n"
   ]
  }
 ],
 "metadata": {
  "kernelspec": {
   "display_name": "base",
   "language": "python",
   "name": "python3"
  },
  "language_info": {
   "codemirror_mode": {
    "name": "ipython",
    "version": 3
   },
   "file_extension": ".py",
   "mimetype": "text/x-python",
   "name": "python",
   "nbconvert_exporter": "python",
   "pygments_lexer": "ipython3",
   "version": "3.9.12 (main, Apr  5 2022, 06:56:58) \n[GCC 7.5.0]"
  },
  "orig_nbformat": 4,
  "vscode": {
   "interpreter": {
    "hash": "55c5e13967205c3728e2b94d0ab43c33ccb2c0232d17d89ff06ed0b2c18999ab"
   }
  }
 },
 "nbformat": 4,
 "nbformat_minor": 2
}
