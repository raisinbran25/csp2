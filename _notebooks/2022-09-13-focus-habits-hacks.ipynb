{
 "cells": [
  {
   "cell_type": "markdown",
   "metadata": {},
   "source": [
    "# Focus and Habits Hacks\n",
    "\n",
    "- toc: true\n",
    "- comments: true\n",
    "- categories: [Week4]"
   ]
  },
  {
   "cell_type": "markdown",
   "metadata": {},
   "source": [
    "After watching the Psychology and the Good Life video and looking at hacks, one thing that stood out to me was the goals in conjunction with happy people. I found that there are many ways that goals can affect happiness. Goals can directly affect happiness because when a goal is achieved, a person usually feels pleasure and therefore happiness. This is why I think it is important to set realistic specfic, and productive goals. In addition, getting distracted from goals can increase working time and therefore decrease free time. I personally experience this when doing my homework, and end up with little free time. This is an indirect effect of goals on happiness, more motivation means less working time and more free time to be social which is stated in the video to be related with happiness."
   ]
  }
 ],
 "metadata": {
  "kernelspec": {
   "display_name": "Python 3.8.10 64-bit",
   "language": "python",
   "name": "python3"
  },
  "language_info": {
   "name": "python",
   "version": "3.8.10"
  },
  "orig_nbformat": 4,
  "vscode": {
   "interpreter": {
    "hash": "916dbcbb3f70747c44a77c7bcd40155683ae19c65e1c03b4aa3499c5328201f1"
   }
  }
 },
 "nbformat": 4,
 "nbformat_minor": 2
}
