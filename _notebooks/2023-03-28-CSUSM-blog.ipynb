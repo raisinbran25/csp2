{
 "cells": [
  {
   "attachments": {},
   "cell_type": "markdown",
   "metadata": {},
   "source": [
    "## Financial\n",
    "\n",
    "- Loans: subsidized and unsubsidized\n",
    "- Subsidized: interest not accrued during education\n",
    "- Scholarship: comes from school (private)\n",
    "- scholarships are abundant, easy to find\n",
    "- FAFSA: Free Application for Federal Student Aid (government)\n",
    "\n"
   ]
  },
  {
   "attachments": {},
   "cell_type": "markdown",
   "metadata": {},
   "source": [
    "## Experiences\n",
    "\n",
    "- Do paid internships(stay away from unpaid), use resources for applying, try to apply even if it is a reach\n",
    "- examples: quantum bridge, summer scholar programs\n",
    "- tips for internships: clubs, google, email\n",
    "- scientific lab research\n",
    "- exapmles: cancer, meteor, microplastic\n",
    "- Clubs are helpful\n",
    "- interesting to me, physics, chemistry, computer science, math, robotics\n",
    "- hackathons"
   ]
  },
  {
   "attachments": {},
   "cell_type": "markdown",
   "metadata": {},
   "source": [
    "## Campus/Applications/Education\n",
    "\n",
    "- small campus, easy to get help\n",
    "- computer science appears in/applies to almost all paths\n",
    "- Many majors/classes/paths to look at\n",
    "- Interesting to me: computer science*, cybersecurity*, biochem, physics*, computer enginerring, mathematics, EE"
   ]
  },
  {
   "attachments": {},
   "cell_type": "markdown",
   "metadata": {},
   "source": [
    "## Reflection"
   ]
  }
 ],
 "metadata": {
  "kernelspec": {
   "display_name": "base",
   "language": "python",
   "name": "python3"
  },
  "language_info": {
   "codemirror_mode": {
    "name": "ipython",
    "version": 3
   },
   "file_extension": ".py",
   "mimetype": "text/x-python",
   "name": "python",
   "nbconvert_exporter": "python",
   "pygments_lexer": "ipython3",
   "version": "3.9.12"
  },
  "orig_nbformat": 4
 },
 "nbformat": 4,
 "nbformat_minor": 2
}
