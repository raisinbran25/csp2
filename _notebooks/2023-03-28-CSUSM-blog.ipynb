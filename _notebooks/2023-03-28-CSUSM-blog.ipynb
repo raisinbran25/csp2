{
 "cells": [
  {
   "attachments": {},
   "cell_type": "markdown",
   "metadata": {},
   "source": [
    "#  CSUSM Blog\n",
    "- title: CSUSM Blog\n",
    "- toc: true"
   ]
  },
  {
   "attachments": {},
   "cell_type": "markdown",
   "metadata": {},
   "source": [
    "## Financial\n",
    "\n",
    "- Loans: subsidized and unsubsidized\n",
    "- Subsidized: interest not accrued during education\n",
    "- Scholarship: comes from school (private)\n",
    "- scholarships are abundant, easy to find\n",
    "- peer review scholarships for higher chance of success\n",
    "- FAFSA: Free Application for Federal Student Aid (government)\n",
    "\n"
   ]
  },
  {
   "attachments": {},
   "cell_type": "markdown",
   "metadata": {},
   "source": [
    "## Experiences\n",
    "\n",
    "- Do paid internships(stay away from unpaid), use resources for applying, try to apply even if it is a reach\n",
    "- examples: quantum bridge, summer scholar, chemistry and biology* programs\n",
    "- tips for internships: clubs, google, email\n",
    "- scientific lab research\n",
    "- exapmles: cancer, meteor, microplastic, AI\n",
    "- Clubs are helpful\n",
    "- interesting to me, physics, chemistry, computer science, math, robotics\n",
    "- hackathons"
   ]
  },
  {
   "attachments": {},
   "cell_type": "markdown",
   "metadata": {},
   "source": [
    "## Campus/Applications/Education\n",
    "\n",
    "- small campus, easy to get help\n",
    "- computer science appears in/applies to almost all paths, \"versatile\"\n",
    "- Many majors/classes/paths to look at\n",
    "- Interesting to me: computer science*, cybersecurity*, biochem, physics*, computer enginerring, mathematics, EE"
   ]
  },
  {
   "attachments": {},
   "cell_type": "markdown",
   "metadata": {},
   "source": [
    "## Reflection\n",
    "\n",
    "Overall, the CSUSM was insightful and gave me more comfort about college, which is a stressful and unfamiliar topic to me. In addition, I learned more about the computer science experience at CSUSM and college in general. It was helpful to hear from actual students of CSUSM because they expereinced the actual admission process and education at the school. I learned about many programs, internships, and clubs that I am interested in and will try to look for no matter what college I attend. Furthermore, I learned a lot about the finance of college, which I previously knew little about. "
   ]
  }
 ],
 "metadata": {
  "kernelspec": {
   "display_name": "base",
   "language": "python",
   "name": "python3"
  },
  "language_info": {
   "codemirror_mode": {
    "name": "ipython",
    "version": 3
   },
   "file_extension": ".py",
   "mimetype": "text/x-python",
   "name": "python",
   "nbconvert_exporter": "python",
   "pygments_lexer": "ipython3",
   "version": "3.9.12"
  },
  "orig_nbformat": 4
 },
 "nbformat": 4,
 "nbformat_minor": 2
}
