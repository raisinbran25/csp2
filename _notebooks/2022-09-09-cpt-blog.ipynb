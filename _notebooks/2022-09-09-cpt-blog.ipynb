{
 "cells": [
  {
   "cell_type": "markdown",
   "metadata": {},
   "source": [
    "# Create Performance Task Blog\n",
    "\n",
    "- toc: true\n",
    "- comments: true\n",
    "- categories: [Week3]"
   ]
  },
  {
   "cell_type": "markdown",
   "metadata": {},
   "source": [
    "## Scrum Board  \n",
    "[Here](https://github.com/raisinbran25/csp2/issues/6) is a Scrum Board for my partner and I that includes our past hacks and a to do list for the upcoming week.  \n"
   ]
  },
  {
   "cell_type": "markdown",
   "metadata": {},
   "source": [
    "## Design Outline for Create Performance Task  \n",
    "A design that I think would be good for the Create Performance Task is a "
   ]
  }
 ],
 "metadata": {
  "kernelspec": {
   "display_name": "Python 3.8.10 64-bit",
   "language": "python",
   "name": "python3"
  },
  "language_info": {
   "name": "python",
   "version": "3.8.10"
  },
  "orig_nbformat": 4,
  "vscode": {
   "interpreter": {
    "hash": "916dbcbb3f70747c44a77c7bcd40155683ae19c65e1c03b4aa3499c5328201f1"
   }
  }
 },
 "nbformat": 4,
 "nbformat_minor": 2
}
