{
 "cells": [
  {
   "cell_type": "markdown",
   "metadata": {},
   "source": [
    "# Create Performance Task Blog\n",
    "\n",
    "- toc: true\n",
    "- comments: true\n",
    "- categories: [Week3]"
   ]
  },
  {
   "cell_type": "markdown",
   "metadata": {},
   "source": [
    "## Scrum Board  \n",
    "[Here](https://github.com/raisinbran25/csp2/issues/6) is a Scrum Board for my partner and I that includes our past hacks and a to do list for the upcoming week.  \n"
   ]
  },
  {
   "cell_type": "markdown",
   "metadata": {},
   "source": [
    "## Design Outline for Create Performance Task  \n",
    "A design that I think would be good for the Create Performance Task is a game show, which could include a variety of games, each demonstrating a requirement for the Create Performance Task.  \n",
    "  \n",
    "The purpose and function of the code could be explained in the code or elsewhere  \n",
    "  \n",
    "A multiple choice question could utilize a list to satisfy the Data Abstraction requirement.  \n",
    "  \n",
    "A defined function to ask several multiple choice questions could satisfy the managing complexity requirement by reducing repetive code to a few function calls.  \n",
    "  \n",
    "An if statement could be used to satisfy the procedural abstraction requirement. For example, if the contestant scores a certain amount of questions on a section correctly, they move on. If not, they are out of the game.  \n",
    "  \n",
    "A for loop can be used for a word guessing game to satisfy the algorithm implementation requirement. One letter of a word could be revealed until the contestant can get the word, if they get it in a certain amount of time they win.  \n",
    "  \n",
    "The author of the code could use different inputs to test the precision and functionality of the code to satisfy the testing requirements."
   ]
  }
 ],
 "metadata": {
  "kernelspec": {
   "display_name": "Python 3.8.10 64-bit",
   "language": "python",
   "name": "python3"
  },
  "language_info": {
   "name": "python",
   "version": "3.8.10"
  },
  "orig_nbformat": 4,
  "vscode": {
   "interpreter": {
    "hash": "916dbcbb3f70747c44a77c7bcd40155683ae19c65e1c03b4aa3499c5328201f1"
   }
  }
 },
 "nbformat": 4,
 "nbformat_minor": 2
}
