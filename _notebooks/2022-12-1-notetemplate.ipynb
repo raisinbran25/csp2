{
 "cells": [
  {
   "cell_type": "markdown",
   "metadata": {},
   "source": [
    "# Note Template\n",
    "- comments: true"
   ]
  },
  {
   "attachments": {},
   "cell_type": "markdown",
   "metadata": {},
   "source": [
    "# Take some additional notes that you would like here for 3.12 and 3.13. We will be looking for additional notes from the presentation. \n",
    "\n",
    "- need to examine code line by line to determine what a procedure does\n",
    "- proceude may or may not produce value\n",
    "- proceudre needs to be defined and called\n",
    "- proceudral abstracation: only know what is not done, not how"
   ]
  },
  {
   "attachments": {},
   "cell_type": "markdown",
   "metadata": {},
   "source": [
    "# What are procedures?\n",
    "\n",
    "**Fill in the blanks please:**\n",
    "\n",
    "Procedure: a named group of programming instructions that may have parameters and return values\n",
    "\n",
    "Parameters: input values of a procedure\n",
    "\n",
    "Arguments: specify the values of the parameters when a procedure is called\n",
    "\n",
    "Modularity: separating a program's functions into independent pieces or blocks\n",
    "\n",
    "Procedural Abstraction: provides a name for a process that allows a procedure to be used only knowing WHAT it does, not HOW it does it\n",
    "\n",
    "What are some other names for procedures?: method, function\n",
    "\n",
    "Why are procedures effective?: you can alter result without changing changing calls to program, you can breeak up the code with modularity\n"
   ]
  },
  {
   "attachments": {},
   "cell_type": "markdown",
   "metadata": {},
   "source": [
    "## <mark>Challenge 1</mark> below: Add the command that will **call** the procedure. "
   ]
  },
  {
   "cell_type": "code",
   "execution_count": 4,
   "metadata": {
    "vscode": {
     "languageId": "javascript"
    }
   },
   "outputs": [
    {
     "name": "stdout",
     "output_type": "stream",
     "text": [
      "00000111\n"
     ]
    }
   ],
   "source": [
    "decimal = 7\n",
    "\n",
    "def convertToBinary(n):\n",
    "    bin = \"\"\n",
    "    i = 7\n",
    "\n",
    "    while i >= 0:\n",
    "        if n % (2**i) == n:\n",
    "            bin = bin + \"0\"\n",
    "            i -= 1\n",
    "        else:\n",
    "            bin = bin + \"1\"\n",
    "            n -= 2**i\n",
    "            i -= 1\n",
    "\n",
    "    print(bin)\n",
    "\n",
    "convertToBinary(decimal)"
   ]
  },
  {
   "attachments": {},
   "cell_type": "markdown",
   "metadata": {},
   "source": [
    "## <mark>Challenge 2</mark> below: Complete the Min and Max procedure in either JavaScript and Python using the instructions from the JavaScript page. (JavaScript will get you a extra 0.1)"
   ]
  },
  {
   "cell_type": "code",
   "execution_count": 15,
   "metadata": {
    "vscode": {
     "languageId": "javascript"
    }
   },
   "outputs": [
    {
     "name": "stdout",
     "output_type": "stream",
     "text": [
      "7 is max\n",
      "6 is min\n"
     ]
    }
   ],
   "source": [
    "num1 = 6\n",
    "num2 = 7\n",
    "\n",
    "function findMax(numberA, numberB) {\n",
    "    if (numberA > numberB) {\n",
    "        console.log(numberA + \" is max\")\n",
    "    } else {\n",
    "        console.log(numberB + \" is max\")\n",
    "    }\n",
    "}\n",
    "\n",
    "function findMin(numberA, numberB) {\n",
    "    if (numberA < numberB) {\n",
    "        console.log(numberA + \" is min\")\n",
    "    } else {\n",
    "        console.log(numberB + \" is min\")\n",
    "    }\n",
    "}\n",
    "\n",
    "findMax(num1, num2)\n",
    "findMin(num1,num2)\n"
   ]
  },
  {
   "attachments": {},
   "cell_type": "markdown",
   "metadata": {},
   "source": [
    "## <mark>Homework/Hacks</mark>: For the hw, you have two options, easy or hard. The easy hack is for a 2.7 + extra work for the full 3. The easy hack is simply creating your own procedure with your own creativity. Since there is a lot of leeway for this one, you must do additional work to get a 3. For the hard hack, below is the start to a character to binary convertor. This is just a template, but the goal is to translate \"APCSP\" into binary. You can delete the existing code if you want. The only contraint is that you must use a procedure. Doing this will get you a 3. "
   ]
  },
  {
   "cell_type": "code",
   "execution_count": 29,
   "metadata": {},
   "outputs": [
    {
     "name": "stdout",
     "output_type": "stream",
     "text": [
      "['01000001', '01010000', '01000011', '01010011', '01010000']\n"
     ]
    }
   ],
   "source": [
    "string = \"APCSP\"\n",
    "up = [\"A\",\"B\",\"C\",\"D\",\"E\",\"F\",\"G\",\"H\",\"I\",\"J\",\"K\",\"L\",\"M\",\"N\",\"O\",\"P\",\"Q\",\"R\",\"S\",\"T\",\"U\",\"V\",\"W\",\"X\",\"Y\",\"Z\"]\n",
    "low = [\"a\",\"b\",\"c\",\"d\",\"e\",\"f\",\"g\",\"h\",\"i\",\"j\",\"k\",\"l\",\"m\",\"n\",\"o\",\"p\",\"q\",\"r\",\"s\",\"t\",\"u\",\"v\",\"w\",\"x\",\"y\",\"z\"]\n",
    "declist = []\n",
    "binlist = []\n",
    "\n",
    "def charToBinary(x):\n",
    "\n",
    "    for y in up:\n",
    "        if x == y:\n",
    "            declist.append((up.index(x)) + 65)\n",
    "    \n",
    "    for z in low:\n",
    "        if x == z:\n",
    "            declist.append((low.index(x)) + 97)\n",
    "    \n",
    "def convert(dec):\n",
    "    bin = \"\"\n",
    "    i = 7\n",
    "\n",
    "    while i >= 0:\n",
    "        if dec % (2**i) == dec:\n",
    "            bin = bin + \"0\"\n",
    "            i -= 1\n",
    "        else:\n",
    "            bin = bin + \"1\"\n",
    "            dec -= 2**i\n",
    "            i -= 1\n",
    "\n",
    "    binlist.append(bin)\n",
    "\n",
    "\n",
    "for ch1 in string:\n",
    "    charToBinary(ch1)\n",
    "\n",
    "for decimal in declist:\n",
    "    convert(decimal)\n",
    "\n",
    "print(binlist)\n",
    "    \n",
    "\n",
    "# The output shown below is the output you are supposed to get"
   ]
  }
 ],
 "metadata": {
  "kernelspec": {
   "display_name": "base",
   "language": "python",
   "name": "python3"
  },
  "language_info": {
   "codemirror_mode": {
    "name": "ipython",
    "version": 3
   },
   "file_extension": ".py",
   "mimetype": "text/x-python",
   "name": "python",
   "nbconvert_exporter": "python",
   "pygments_lexer": "ipython3",
   "version": "3.9.12 (main, Apr  5 2022, 06:56:58) \n[GCC 7.5.0]"
  },
  "orig_nbformat": 4,
  "vscode": {
   "interpreter": {
    "hash": "55c5e13967205c3728e2b94d0ab43c33ccb2c0232d17d89ff06ed0b2c18999ab"
   }
  }
 },
 "nbformat": 4,
 "nbformat_minor": 2
}
