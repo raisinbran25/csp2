{
 "cells": [
  {
   "cell_type": "markdown",
   "metadata": {},
   "source": [
    "# Note Template\n",
    "- comments: true"
   ]
  },
  {
   "cell_type": "markdown",
   "metadata": {},
   "source": [
    "# Take some additional notes that you would like here for 3.12 and 3.13. We will be looking for additional notes from the presentation. \n"
   ]
  },
  {
   "attachments": {},
   "cell_type": "markdown",
   "metadata": {},
   "source": [
    "# What are procedures?\n",
    "\n",
    "**Fill in the blanks please:**\n",
    "\n",
    "Procedure: a named group of programming instructions that may have parameters and return values\n",
    "\n",
    "Parameters: input values of a procedure\n",
    "\n",
    "Arguments: specify the values of the parameters when a procedure is called\n",
    "\n",
    "Modularity: separating a program's functions into independent pieces or blocks\n",
    "\n",
    "Procedural Abstraction: provides a name for a process that allows a procedure to be used only knowing WHAT it does, not HOW it does it\n",
    "\n",
    "What are some other names for procedures?: method, function\n",
    "\n",
    "Why are procedures effective?: you can alter result without changing changing calls to program, you can breeak up the code with modularity\n"
   ]
  },
  {
   "attachments": {},
   "cell_type": "markdown",
   "metadata": {},
   "source": [
    "## <mark>Challenge 1</mark> below: Add the command that will **call** the procedure. "
   ]
  },
  {
   "cell_type": "code",
   "execution_count": 4,
   "metadata": {},
   "outputs": [
    {
     "name": "stdout",
     "output_type": "stream",
     "text": [
      "00000111\n"
     ]
    }
   ],
   "source": [
    "decimal = 7\n",
    "\n",
    "def convertToBinary(n):\n",
    "    bin = \"\"\n",
    "    i = 7\n",
    "\n",
    "    while i >= 0:\n",
    "        if n % (2**i) == n:\n",
    "            bin = bin + \"0\"\n",
    "            i -= 1\n",
    "        else:\n",
    "            bin = bin + \"1\"\n",
    "            n -= 2**i\n",
    "            i -= 1\n",
    "\n",
    "    print(bin)\n",
    "\n",
    "convertToBinary(decimal)"
   ]
  },
  {
   "attachments": {},
   "cell_type": "markdown",
   "metadata": {},
   "source": [
    "## <mark>Challenge 2</mark> below: Complete the Min and Max procedure in either JavaScript and Python using the instructions from the JavaScript page. (JavaScript will get you a extra 0.1)"
   ]
  },
  {
   "cell_type": "code",
   "execution_count": 15,
   "metadata": {},
   "outputs": [
    {
     "name": "stdout",
     "output_type": "stream",
     "text": [
      "7 is max\n",
      "6 is min\n"
     ]
    }
   ],
   "source": [
    "num1 = 6\n",
    "num2 = 7\n",
    "\n",
    "function findMax(numberA, numberB) {\n",
    "    if (numberA > numberB) {\n",
    "        console.log(numberA + \" is max\")\n",
    "    } else {\n",
    "        console.log(numberB + \" is max\")\n",
    "    }\n",
    "}\n",
    "\n",
    "function findMin(numberA, numberB) {\n",
    "    if (numberA < numberB) {\n",
    "        console.log(numberA + \" is min\")\n",
    "    } else {\n",
    "        console.log(numberB + \" is min\")\n",
    "    }\n",
    "}\n",
    "\n",
    "findMax(num1, num2)\n",
    "findMin(num1,num2)\n"
   ]
  },
  {
   "attachments": {},
   "cell_type": "markdown",
   "metadata": {},
   "source": [
    "## <mark>Homework/Hacks</mark>: For the hw, you have two options, easy or hard. The easy hack is for a 2.7 + extra work for the full 3. The easy hack is simply creating your own procedure with your own creativity. Since there is a lot of leeway for this one, you must do additional work to get a 3. For the hard hack, below is the start to a character to binary convertor. This is just a template, but the goal is to translate \"APCSP\" into binary. You can delete the existing code if you want. The only contraint is that you must use a procedure. Doing this will get you a 3. "
   ]
  },
  {
   "cell_type": "code",
   "execution_count": 5,
   "metadata": {},
   "outputs": [
    {
     "name": "stdout",
     "output_type": "stream",
     "text": [
      "''APCSP'' in binary is \n",
      "[1000001, 1010000, 1000011, 1010011, 1010000]\n"
     ]
    }
   ],
   "source": [
    "def charToBinary(x):()\n",
    "\n",
    "# The output shown below is the output you are supposed to get"
   ]
  }
 ],
 "metadata": {
  "kernelspec": {
   "display_name": "JavaScript (Node.js)",
   "language": "javascript",
   "name": "javascript"
  },
  "language_info": {
   "file_extension": ".js",
   "mimetype": "application/javascript",
   "name": "javascript",
   "version": "6.11.2"
  },
  "orig_nbformat": 4,
  "vscode": {
   "interpreter": {
    "hash": "916dbcbb3f70747c44a77c7bcd40155683ae19c65e1c03b4aa3499c5328201f1"
   }
  }
 },
 "nbformat": 4,
 "nbformat_minor": 2
}
