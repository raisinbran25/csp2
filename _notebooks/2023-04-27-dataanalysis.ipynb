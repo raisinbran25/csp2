{
 "cells": [
  {
   "attachments": {},
   "cell_type": "markdown",
   "metadata": {},
   "source": [
    "# Data Analysis / Predictive Analysis\n",
    "- toc: true \n",
    "- badges: true\n",
    "- comments: true"
   ]
  },
  {
   "attachments": {},
   "cell_type": "markdown",
   "metadata": {},
   "source": [
    "\n",
    "How can Numpy and Pandas be used to preprocess data for predictive analysis?\n",
    "Numpy and Pandas can clean data, such as by removing outliers or corrupted data so that no errors occur during predictive analysis.\n",
    "\n",
    "What machine learning algorithms can be used for predictive analysis, and how do they differ?\n",
    "Two machine learning algorithms that intrested me for predictive analysis are decision trees and random forests. One difference between the two is that decision tree algorithms target successful attempts to find a more accurate answer while random forest algorithms are more brute force like.\n",
    "\n",
    "Can you discuss some real-world applications of predictive analysis in different industries?\n",
    "One real world application of predictive analysis is marketing. Previous data can be analyzed to determine the best method or timing of marketing to maximize success.\n",
    "\n",
    "Can you explain the role of feature engineering in predictive analysis, and how it can improve model accuracy?\n",
    "Feature engineering is a way to \"train\" predctive analysis by adding problems for the analysis to find and solve. It improves model accuracy by giving the algorithm more experience.\n",
    "\n",
    "How can machine learning models be deployed in real-time applications for predictive analysis?\n",
    "One way machine learning models can be used in real-time applications for predictive analysis in web services. The models are integrated into production systems to generate live predictions based on live data.\n",
    "\n",
    "Can you discuss some limitations of Numpy and Pandas, and when it might be necessary to use other data analysis tools?\n",
    "One limitation of numpy and pandas is scalability. Numpy and pandas may have trouble digesting large sets of data, and in those cases it may be necessary to use other daya analysis tools.\n",
    "\n",
    "How can predictive analysis be used to improve decision-making and optimize business processes?\n",
    "Predictive analysis can be used to improve decision making because unlike humans, a computer can be perfect, taking all factors into account when making a decision. This can be used to optimize business processes by finding the best possible course of action based on previous situations."
   ]
  }
 ],
 "metadata": {
  "kernelspec": {
   "display_name": "Python 3",
   "language": "python",
   "name": "python3"
  },
  "language_info": {
   "codemirror_mode": {
    "name": "ipython",
    "version": 3
   },
   "file_extension": ".py",
   "mimetype": "text/x-python",
   "name": "python",
   "nbconvert_exporter": "python",
   "pygments_lexer": "ipython3",
   "version": "3.9.12"
  },
  "orig_nbformat": 4
 },
 "nbformat": 4,
 "nbformat_minor": 2
}
