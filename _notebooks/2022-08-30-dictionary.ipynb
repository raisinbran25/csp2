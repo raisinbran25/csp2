{
 "cells": [
  {
   "cell_type": "markdown",
   "metadata": {},
   "source": [
    "# Dictionary, Iteration, List\n",
    "\n",
    "- toc: true\n",
    "- comments: true\n",
    "- categories: [Week3]"
   ]
  },
  {
   "cell_type": "markdown",
   "metadata": {},
   "source": [
    "Here, information is manually put into a dictionary called InfoDb. I then created a function, collect_data, that takes input and puts it into the dictionary. Next, I created another function, more_info, that allows the user to input multiple values into keys into the dictionary until they are satisfied. Lastly, the contents of the dictionary are output."
   ]
  },
  {
   "cell_type": "code",
   "execution_count": 9,
   "metadata": {},
   "outputs": [
    {
     "name": "stdout",
     "output_type": "stream",
     "text": [
      "\n",
      "For loop output\n",
      "\n",
      "Here is the information for John Mortensen:\n",
      "\t Birth Day: October 21\n",
      "\t Residence: San Diego\n",
      "\t Email: jmortensen@powayusd.com\n",
      "\t Age: \n",
      "\t Cars: 2015-Fusion, 2011-Ranger, 2003-Excursion, 1997-F350, 1969-Cadillac\n",
      "\n",
      "Here is the information for Sunny Naidu:\n",
      "\t Birth Day: August 2\n",
      "\t Residence: Temecula\n",
      "\t Email: snaidu@powayusd.com\n",
      "\t Age: \n",
      "\t Cars: 4Runner\n",
      "\n",
      "Here is the information for Jaden Nguyen:\n",
      "\t Birth Day: March 16\n",
      "\t Residence: San Diego\n",
      "\t Email: jadenn372@gmail.com\n",
      "\t Age: \n",
      "\t Cars: AMDB5\n",
      "\n",
      "Here is the information for jacques webster:\n",
      "\t Birth Day: jan 1\n",
      "\t Residence: 90210\n",
      "\t Email: tscott@email.com\n",
      "\t Age: 31\n",
      "\t Cars: batmobile\n",
      "\n"
     ]
    }
   ],
   "source": [
    "# Define an empty List called InfoDb\n",
    "InfoDb = []\n",
    "\n",
    "# InfoDB is a data structure with expected Keys and Values\n",
    "\n",
    "# Append to List a Dictionary of key/values related to a person and cars\n",
    "InfoDb.append({\n",
    "    \"FirstName\": \"John\",\n",
    "    \"LastName\": \"Mortensen\",\n",
    "    \"DOB\": \"October 21\",\n",
    "    \"Residence\": \"San Diego\",\n",
    "    \"Email\": \"jmortensen@powayusd.com\",\n",
    "    \"Age\": \"\",\n",
    "    \"Owns_Cars\": [\"2015-Fusion\", \"2011-Ranger\", \"2003-Excursion\", \"1997-F350\", \"1969-Cadillac\"]\n",
    "})\n",
    "\n",
    "# Append to List a 2nd Dictionary of key/values\n",
    "InfoDb.append({\n",
    "    \"FirstName\": \"Sunny\",\n",
    "    \"LastName\": \"Naidu\",\n",
    "    \"DOB\": \"August 2\",\n",
    "    \"Residence\": \"Temecula\",\n",
    "    \"Email\": \"snaidu@powayusd.com\",\n",
    "    \"Age\": \"\",\n",
    "    \"Owns_Cars\": [\"4Runner\"]\n",
    "})\n",
    "\n",
    "InfoDb.append({\n",
    "    \"FirstName\": \"Jaden\",\n",
    "    \"LastName\": \"Nguyen\",\n",
    "    \"DOB\": \"March 16\",\n",
    "    \"Residence\": \"San Diego\",\n",
    "    \"Email\": \"jadenn372@gmail.com\",\n",
    "    \"Age\": \"\",\n",
    "    \"Owns_Cars\": [\"AMDB5\"]\n",
    "})\n",
    "\n",
    "def collect_data():\n",
    "    fn = input(\"What is your first name? \")\n",
    "    ln = input(\"What is your last name? \")\n",
    "    dob = input(\"What is your date of birth? \")\n",
    "    res = input(\"Where do you live? \")\n",
    "    eml = input(\"What is your email? \")\n",
    "    age = input(\"What is your age? \")\n",
    "    car = input(\"What cars do you own? \")\n",
    "    InfoDb.append({\n",
    "        \"FirstName\": fn,\n",
    "        \"LastName\": ln,\n",
    "        \"DOB\": dob,\n",
    "        \"Residence\": res,\n",
    "        \"Email\": eml,\n",
    "        \"Age\": age,\n",
    "        \"Owns_Cars\": [car]\n",
    "    })\n",
    "\n",
    "def more_info():\n",
    "    while True:\n",
    "        ans = input(\"Do you want to add more info to the database? \")\n",
    "        if ans == \"yes\":\n",
    "            name = True\n",
    "            collect_data()\n",
    "            print()\n",
    "        else:\n",
    "            break\n",
    "\n",
    "more_info()\n",
    "\n",
    "# Print the data structure\n",
    "def print_data(d_rec):\n",
    "    print(\"Here is the information for \" + d_rec[\"FirstName\"], d_rec[\"LastName\"] + \":\")  # using comma puts space between values\n",
    "    print(\"\\t\", \"Birth Day:\", d_rec[\"DOB\"])\n",
    "    print(\"\\t\", \"Residence:\", d_rec[\"Residence\"]) # \\t is a tab indent\n",
    "    print(\"\\t\", \"Email:\", d_rec[\"Email\"])\n",
    "    print(\"\\t\", \"Age:\", d_rec[\"Age\"])\n",
    "    print(\"\\t\", \"Cars: \", end=\"\")  # end=\"\" make sure no return occurs\n",
    "    print(\", \".join(d_rec[\"Owns_Cars\"]))  # join allows printing a string list with separator\n",
    "    print()\n",
    "\n",
    "def for_loop():\n",
    "    print(\"For loop output\\n\")\n",
    "    for record in InfoDb:\n",
    "        print_data(record)\n",
    "\n",
    "for_loop()"
   ]
  },
  {
   "cell_type": "markdown",
   "metadata": {},
   "source": [
    "Below, I used index to list an album's place in its discography."
   ]
  },
  {
   "cell_type": "code",
   "execution_count": 6,
   "metadata": {},
   "outputs": [
    {
     "name": "stdout",
     "output_type": "stream",
     "text": [
      "rodeo is album number 1 in the discography.\n",
      "birds in the trap sing mcknight is album number 2 in the discography.\n",
      "astroworld is album number 3 in the discography.\n",
      "utopia is album number 4 in the discography.\n"
     ]
    }
   ],
   "source": [
    "list = [\"rodeo\", \"birds in the trap sing mcknight\", \"astroworld\", \"utopia\"]\n",
    "\n",
    "for x in list:\n",
    "    y = int(list.index(x)) + 1\n",
    "    print(x + \" is album number \" + str(y) + \" in the discography.\")"
   ]
  }
 ],
 "metadata": {
  "kernelspec": {
   "display_name": "Python 3.9.12 ('base')",
   "language": "python",
   "name": "python3"
  },
  "language_info": {
   "codemirror_mode": {
    "name": "ipython",
    "version": 3
   },
   "file_extension": ".py",
   "mimetype": "text/x-python",
   "name": "python",
   "nbconvert_exporter": "python",
   "pygments_lexer": "ipython3",
   "version": "3.9.12"
  },
  "orig_nbformat": 4,
  "vscode": {
   "interpreter": {
    "hash": "55c5e13967205c3728e2b94d0ab43c33ccb2c0232d17d89ff06ed0b2c18999ab"
   }
  }
 },
 "nbformat": 4,
 "nbformat_minor": 2
}
