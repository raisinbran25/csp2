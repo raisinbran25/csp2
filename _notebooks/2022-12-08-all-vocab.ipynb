{
 "cells": [
  {
   "cell_type": "markdown",
   "metadata": {},
   "source": [
    "# Combined Vocab\n",
    "\n",
    "- toc: true\n",
    "- comments: true\n",
    "- categories: []"
   ]
  },
  {
   "cell_type": "markdown",
   "metadata": {},
   "source": [
    "## Unit 2  \n",
    "\n",
    "Bits, Bytes, Hexadecimal / Nibbles  \n",
    "- Bits: binary digits(0/1)  \n",
    "- Bytes: eight binary digits(ex: 00000001)  \n",
    "- Hexadecimal: base 16, numbers are 1-10, A-F\n",
    "\n",
    "Binary Numbers: Unsigned Integer, Signed Integer, Floating Point\n",
    "- Unsigned Integer: does not specify sign(+/-) of decimal number\n",
    "- Signed integer: specifies sign with first bit, 0 is positive, 1 is negative\n",
    "- Floating Point: stores number as \"integer\" and magnitude with power of 10 ex: 123 x 10^-1\n",
    "\n",
    "Binary Data Abstractions: Boolean, ASCII, Unicode, RGB\n",
    "- Boolean: binary(yes/no, 0/1, true/false, etc.)\n",
    "- ASCII: general code for characters\n",
    "- Unicode: special characters\n",
    "- RGB: way of quantifying color with values of red, green, blue\n",
    "\n",
    "Data Compression: Lossy, Lossless (note discussed yet)"
   ]
  },
  {
   "cell_type": "markdown",
   "metadata": {},
   "source": [
    "## Unit 3  \n",
    "  \n",
    "Variables, Data Types, Assignment Operators\n",
    "- variables: word/characters that symbolize a value(s)\n",
    "- data types: integer, string, list, etc.\n",
    "- assignment operators: used to assign a variable to something(=)"
   ]
  },
  {
   "cell_type": "code",
   "execution_count": null,
   "metadata": {},
   "outputs": [],
   "source": [
    "#variables\n",
    "variable = \"value\"\n",
    "\n",
    "#data types\n",
    "int = 1\n",
    "str = \"string\"\n",
    "list = [\"a\",\"b\",\"c\"]\n",
    "\n",
    "#assignment operator =\n",
    "this = \"that\""
   ]
  },
  {
   "cell_type": "markdown",
   "metadata": {},
   "source": []
  }
 ],
 "metadata": {
  "kernelspec": {
   "display_name": "Python 3.9.12 ('base')",
   "language": "python",
   "name": "python3"
  },
  "language_info": {
   "codemirror_mode": {
    "name": "ipython",
    "version": 3
   },
   "file_extension": ".py",
   "mimetype": "text/x-python",
   "name": "python",
   "nbconvert_exporter": "python",
   "pygments_lexer": "ipython3",
   "version": "3.9.12"
  },
  "vscode": {
   "interpreter": {
    "hash": "55c5e13967205c3728e2b94d0ab43c33ccb2c0232d17d89ff06ed0b2c18999ab"
   }
  }
 },
 "nbformat": 4,
 "nbformat_minor": 2
}
