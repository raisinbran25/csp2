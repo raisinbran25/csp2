{
 "cells": [
  {
   "cell_type": "markdown",
   "metadata": {},
   "source": [
    "# Combined Vocab\n",
    "\n",
    "- toc: true\n",
    "- comments: true\n",
    "- categories: []"
   ]
  },
  {
   "cell_type": "markdown",
   "metadata": {},
   "source": [
    "## Unit 2  \n",
    "\n",
    "Bits, Bytes, Hexadecimal / Nibbles  \n",
    "- Bits: binary digits(0/1)  \n",
    "- Bytes: eight binary digits(ex: 00000001)  \n",
    "- Hexadecimal: base 16, numbers are 1-10, A-F\n",
    "\n",
    "Binary Numbers: Unsigned Integer, Signed Integer, Floating Point\n",
    "- Unsigned Integer: does not specify sign(+/-) of decimal number\n",
    "- Signed integer: specifies sign with first bit, 0 is positive, 1 is negative\n",
    "- Floating Point: stores number as \"integer\" and magnitude with power of 10 ex: 123 x 10^-1\n",
    "\n",
    "Binary Data Abstractions: Boolean, ASCII, Unicode, RGB\n",
    "- Boolean: binary(yes/no, 0/1, true/false, etc.)\n",
    "- ASCII: general code for characters\n",
    "- Unicode: special characters\n",
    "- RGB: way of quantifying color with values of red, green, blue\n",
    "\n",
    "Data Compression: Lossy, Lossless (note discussed yet)"
   ]
  },
  {
   "cell_type": "markdown",
   "metadata": {},
   "source": [
    "## Unit 3  \n",
    "  \n",
    "Variables, Data Types, Assignment Operators\n",
    "- variables: word/characters that symbolize a value(s)\n",
    "- data types: integer, string, list, etc.\n",
    "- assignment operators: used to assign a variable to something(=)"
   ]
  },
  {
   "cell_type": "code",
   "execution_count": null,
   "metadata": {},
   "outputs": [],
   "source": [
    "#variables\n",
    "variable = \"value\"\n",
    "\n",
    "#data types\n",
    "int = 1\n",
    "str = \"string\"\n",
    "list = [\"a\",\"b\",\"c\"]\n",
    "\n",
    "#assignment operator =\n",
    "this = \"that\""
   ]
  },
  {
   "attachments": {},
   "cell_type": "markdown",
   "metadata": {},
   "source": [
    "Managing Complexity with Variables:  Lists, 2D Lists, Dictionaries, Class  \n",
    "   \n",
    "- Lists: combination of multiple values\n",
    "- 2D List: list of lists, \"rows and columns\"\n",
    "- Dictionaries: stores data with key:value\n",
    "- Class:"
   ]
  },
  {
   "cell_type": "code",
   "execution_count": 1,
   "metadata": {},
   "outputs": [],
   "source": [
    "#List\n",
    "list = [\"1\", \"2\", \"3\"]\n",
    "\n",
    "#2D List\n",
    "list2 = [(\"1.1\", \"1.2\", \"1.3\"), (\"2.1\", \"2.2\", \"2.3\")]\n",
    "\n",
    "#Dictionary\n",
    "dict = {\n",
    "    \"name\": \"Jaden\",\n",
    "    \"age\": \"15\",\n",
    "    \"school\": \"del norte\"\n",
    "}"
   ]
  },
  {
   "attachments": {},
   "cell_type": "markdown",
   "metadata": {},
   "source": [
    "Algorithms, Sequence, Selection, Iteration  \n",
    "  \n",
    "- Algorithm: commands that do a certain task\n",
    "- Sequence: chronological order of tasks\n",
    "- Selection: do a certain action based on a condition\n",
    "- Iteration: repeating something until a condition is satisfied  "
   ]
  },
  {
   "cell_type": "code",
   "execution_count": null,
   "metadata": {},
   "outputs": [],
   "source": [
    "binarylist = [\n",
    "    \"01001001\", \"10101010\", \"10010110\", \"00110111\", \"11101100\", \"11010001\", \"10000001\"\n",
    "]\n",
    "newlist = []\n",
    "def binary_convert(binary): #functino is an algorithm\n",
    "    dec = 0\n",
    "    i = 7\n",
    "    for num in str(binary): #iteration\n",
    "        if int(num) == 1: #selection\n",
    "            dec += 2**i\n",
    "            i -= 1\n",
    "            continue\n",
    "        else:\n",
    "            i -= 1\n",
    "            continue\n",
    "    newlist.append(dec)\n",
    "\n",
    "#everything next is sequencing\n",
    "\n",
    "for x in binarylist:\n",
    "    binary_convert(x)\n",
    "\n",
    "print(newlist)\n",
    "\n",
    "for new in newlist:\n",
    "    if new > 100:\n",
    "        newlist.remove(new)\n",
    "\n",
    "print(newlist)"
   ]
  },
  {
   "attachments": {},
   "cell_type": "markdown",
   "metadata": {},
   "source": [
    "Expressions, Comparison Operators, Booleans Expressions and Selection, Booleans  \n",
    "  \n",
    "- Expressions: combination of operators/operands\n",
    "- Comparison operators: relatinoship between two numbers\n",
    "- Booleans Expressions: t/f, 0/1, y/n"
   ]
  },
  {
   "cell_type": "code",
   "execution_count": null,
   "metadata": {},
   "outputs": [],
   "source": [
    "#Expression\n",
    "3 + 4\n",
    "\n",
    "#comparison operators\n",
    "x > y \n",
    "x < y\n",
    "x = y\n",
    "\n",
    "# Booloeans\n",
    "if x:\n",
    "    print(\"false\")\n",
    "else:\n",
    "    print(\"true\")"
   ]
  },
  {
   "attachments": {},
   "cell_type": "markdown",
   "metadata": {},
   "source": [
    "Truth Tables  \n",
    "  \n",
    "- AND: 1 1\n",
    "- OR: 0 1, 1 0, 1 1\n",
    "- XOR: 0 0, 1 1\n",
    "- NOT: 0"
   ]
  },
  {
   "attachments": {},
   "cell_type": "markdown",
   "metadata": {},
   "source": [
    "Characters, Strings, Length, Concatenation, Upper, Lower, Traversing Strings  \n",
    "  \n",
    "- Character: single letter, number, symbol\n",
    "- Length: number of characters in a string\n",
    "- Concatenation: combining two things\n",
    "- Upper/Lower: change case\n",
    "- Traversing Strings: use index"
   ]
  },
  {
   "cell_type": "code",
   "execution_count": null,
   "metadata": {},
   "outputs": [],
   "source": [
    "#Length\n",
    "str = \"string\"\n",
    "len = len(str)\n",
    "print(len)\n",
    "\n",
    "#concatenation\n",
    "str1 = \"hel\"\n",
    "str2 = \"lo\"\n",
    "str3 = str1 + str2\n",
    "print(str3)\n",
    "\n",
    "#traversing\n",
    "string = \"hello\"\n",
    "third = string[1]\n",
    "print(third)\n"
   ]
  },
  {
   "attachments": {},
   "cell_type": "markdown",
   "metadata": {},
   "source": [
    "Python If, Elif, Else conditionals; Nested Selection Statements  \n",
    "  \n",
    "- if: do an action when something is true\n",
    "- elif: first condition false, test another\n",
    "- else: action when first condition false\n",
    "- nested selection: condition inside condition"
   ]
  },
  {
   "cell_type": "code",
   "execution_count": 6,
   "metadata": {},
   "outputs": [
    {
     "name": "stdout",
     "output_type": "stream",
     "text": [
      "more than 3\n",
      "more than 5\n",
      "less than 8\n"
     ]
    }
   ],
   "source": [
    "num = 7\n",
    "\n",
    "if num > 3:\n",
    "    print(\"more than 3\")\n",
    "    if num > 5:\n",
    "        print(\"more than 5\")\n",
    "else: \n",
    "    print(\"less than 3\")\n",
    "\n",
    "if num < 8:\n",
    "    print(\"less than 8\")\n",
    "elif num < 4:\n",
    "    print(\"less than 4\")"
   ]
  },
  {
   "attachments": {},
   "cell_type": "markdown",
   "metadata": {},
   "source": [
    "Python For, While loops with Range, with List  \n",
    "Combining loops with conditionals to Break, Continue  \n",
    "  \n",
    "- for: action for each x in y\n",
    "- while: loops as long as condition true\n",
    "- break: end loop\n",
    "- continue: keep loop"
   ]
  },
  {
   "cell_type": "code",
   "execution_count": 9,
   "metadata": {},
   "outputs": [
    {
     "name": "stdout",
     "output_type": "stream",
     "text": [
      "less than 5\n",
      "less than 5\n",
      "less than 5\n",
      "less than 5\n",
      "more than 5\n",
      "more than 5\n",
      "more than 5\n",
      "more than 5\n",
      "more than 5\n",
      "1\n",
      "2\n",
      "3\n",
      "4\n",
      "5\n"
     ]
    }
   ],
   "source": [
    "list = [1,2,3,4,5,6,7,8,9]\n",
    "\n",
    "for x in list:\n",
    "    if x < 5:\n",
    "        print(\"less than 5\")\n",
    "    else:\n",
    "        print(\"more than 5\")\n",
    "\n",
    "i = 0\n",
    "while i < 5:\n",
    "    print(list[i])\n",
    "    i += 1\n"
   ]
  },
  {
   "attachments": {},
   "cell_type": "markdown",
   "metadata": {},
   "source": [
    "Procedural Abstraction, Python Def procedures, Parameters, Return Values  \n",
    "  \n",
    "- def: defining a function to do a procedure\n",
    "- parameters: values given to a function to work with\n",
    "- return: brings variables out of function after running"
   ]
  },
  {
   "cell_type": "code",
   "execution_count": 11,
   "metadata": {},
   "outputs": [
    {
     "data": {
      "text/plain": [
       "10"
      ]
     },
     "execution_count": 11,
     "metadata": {},
     "output_type": "execute_result"
    }
   ],
   "source": [
    "def add5(x):\n",
    "    x += 5\n",
    "    return x\n",
    "\n",
    "add5(5)"
   ]
  }
 ],
 "metadata": {
  "kernelspec": {
   "display_name": "Python 3.9.12 ('base')",
   "language": "python",
   "name": "python3"
  },
  "language_info": {
   "codemirror_mode": {
    "name": "ipython",
    "version": 3
   },
   "file_extension": ".py",
   "mimetype": "text/x-python",
   "name": "python",
   "nbconvert_exporter": "python",
   "pygments_lexer": "ipython3",
   "version": "3.9.12"
  },
  "vscode": {
   "interpreter": {
    "hash": "55c5e13967205c3728e2b94d0ab43c33ccb2c0232d17d89ff06ed0b2c18999ab"
   }
  }
 },
 "nbformat": 4,
 "nbformat_minor": 2
}
