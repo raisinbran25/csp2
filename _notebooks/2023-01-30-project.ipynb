{
 "cells": [
  {
   "attachments": {},
   "cell_type": "markdown",
   "metadata": {},
   "source": [
    "# Project Blog\n",
    "- title: Project Blog\n",
    "- categories: [Week]"
   ]
  },
  {
   "attachments": {},
   "cell_type": "markdown",
   "metadata": {},
   "source": [
    "Each individual performs starts \"pre-view\" outline/write-up of materials required for College Board. \n",
    "- Minesweeper will be part of a bigger project collermathgames.\n",
    "- use fastpages for actual game\n",
    "- frontend/backend combined in markdown file\n",
    "- backend connects to CRUD api/databse, postman\n",
    "- home page, leaderboard, login page, four pages for four games\n",
    "\n",
    "Describe portion of Project you will use for Create Performance task\n",
    "Describe code plan as it is required for CB  \n",
    "- create container frontend, css\n",
    "- add buttons, grid\n",
    "- backend, define button functions\n",
    "- define reset buttons\n",
    "- randomization of mine placement\n",
    "\n",
    "Consider what will be demonstrated in video, aka video plan  \n",
    "- first input: click a space with at least one mine in vicinity, output is number of mines\n",
    "- second input: click a space with a mine, output is game over"
   ]
  }
 ],
 "metadata": {
  "kernelspec": {
   "display_name": "base",
   "language": "python",
   "name": "python3"
  },
  "language_info": {
   "codemirror_mode": {
    "name": "ipython",
    "version": 3
   },
   "file_extension": ".py",
   "mimetype": "text/x-python",
   "name": "python",
   "nbconvert_exporter": "python",
   "pygments_lexer": "ipython3",
   "version": "3.9.12"
  },
  "orig_nbformat": 4,
  "vscode": {
   "interpreter": {
    "hash": "55c5e13967205c3728e2b94d0ab43c33ccb2c0232d17d89ff06ed0b2c18999ab"
   }
  }
 },
 "nbformat": 4,
 "nbformat_minor": 2
}
