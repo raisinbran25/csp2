{
 "cells": [
  {
   "cell_type": "markdown",
   "metadata": {},
   "source": [
    "# My first jupyter notebook\n",
    "\n",
    "- toc: true\n",
    "- comments: true\n",
    "- categories: [Week0]\n"
   ]
  },
  {
   "cell_type": "markdown",
   "metadata": {},
   "source": [
    "In this python script, I used a for loop to list all 101 Dalmatians."
   ]
  },
  {
   "cell_type": "code",
   "execution_count": 29,
   "metadata": {},
   "outputs": [
    {
     "name": "stdout",
     "output_type": "stream",
     "text": [
      "Dalmatian 1\n",
      "Dalmatian 2\n",
      "Dalmatian 3\n",
      "Dalmatian 4\n",
      "Dalmatian 5\n",
      "Dalmatian 6\n",
      "Dalmatian 7\n",
      "Dalmatian 8\n",
      "Dalmatian 9\n",
      "Dalmatian 10\n",
      "Dalmatian 11\n",
      "Dalmatian 12\n",
      "Dalmatian 13\n",
      "Dalmatian 14\n",
      "Dalmatian 15\n",
      "Dalmatian 16\n",
      "Dalmatian 17\n",
      "Dalmatian 18\n",
      "Dalmatian 19\n",
      "Dalmatian 20\n",
      "Dalmatian 21\n",
      "Dalmatian 22\n",
      "Dalmatian 23\n",
      "Dalmatian 24\n",
      "Dalmatian 25\n",
      "Dalmatian 26\n",
      "Dalmatian 27\n",
      "Dalmatian 28\n",
      "Dalmatian 29\n",
      "Dalmatian 30\n",
      "Dalmatian 31\n",
      "Dalmatian 32\n",
      "Dalmatian 33\n",
      "Dalmatian 34\n",
      "Dalmatian 35\n",
      "Dalmatian 36\n",
      "Dalmatian 37\n",
      "Dalmatian 38\n",
      "Dalmatian 39\n",
      "Dalmatian 40\n",
      "Dalmatian 41\n",
      "Dalmatian 42\n",
      "Dalmatian 43\n",
      "Dalmatian 44\n",
      "Dalmatian 45\n",
      "Dalmatian 46\n",
      "Dalmatian 47\n",
      "Dalmatian 48\n",
      "Dalmatian 49\n",
      "Dalmatian 50\n",
      "Dalmatian 51\n",
      "Dalmatian 52\n",
      "Dalmatian 53\n",
      "Dalmatian 54\n",
      "Dalmatian 55\n",
      "Dalmatian 56\n",
      "Dalmatian 57\n",
      "Dalmatian 58\n",
      "Dalmatian 59\n",
      "Dalmatian 60\n",
      "Dalmatian 61\n",
      "Dalmatian 62\n",
      "Dalmatian 63\n",
      "Dalmatian 64\n",
      "Dalmatian 65\n",
      "Dalmatian 66\n",
      "Dalmatian 67\n",
      "Dalmatian 68\n",
      "Dalmatian 69\n",
      "Dalmatian 70\n",
      "Dalmatian 71\n",
      "Dalmatian 72\n",
      "Dalmatian 73\n",
      "Dalmatian 74\n",
      "Dalmatian 75\n",
      "Dalmatian 76\n",
      "Dalmatian 77\n",
      "Dalmatian 78\n",
      "Dalmatian 79\n",
      "Dalmatian 80\n",
      "Dalmatian 81\n",
      "Dalmatian 82\n",
      "Dalmatian 83\n",
      "Dalmatian 84\n",
      "Dalmatian 85\n",
      "Dalmatian 86\n",
      "Dalmatian 87\n",
      "Dalmatian 88\n",
      "Dalmatian 89\n",
      "Dalmatian 90\n",
      "Dalmatian 91\n",
      "Dalmatian 92\n",
      "Dalmatian 93\n",
      "Dalmatian 94\n",
      "Dalmatian 95\n",
      "Dalmatian 96\n",
      "Dalmatian 97\n",
      "Dalmatian 98\n",
      "Dalmatian 99\n",
      "Dalmatian 100\n",
      "Dalmatian 101\n"
     ]
    }
   ],
   "source": [
    "var = \"Dalmatian \"\n",
    "for n in range(1, 102):\n",
    "    print(var + str(n))"
   ]
  }
 ],
 "metadata": {
  "kernelspec": {
   "display_name": "Python 3.10.4 64-bit",
   "language": "python",
   "name": "python3"
  },
  "language_info": {
   "codemirror_mode": {
    "name": "ipython",
    "version": 3
   },
   "file_extension": ".py",
   "mimetype": "text/x-python",
   "name": "python",
   "nbconvert_exporter": "python",
   "pygments_lexer": "ipython3",
   "version": "3.8.10"
  },
  "orig_nbformat": 4,
  "vscode": {
   "interpreter": {
    "hash": "916dbcbb3f70747c44a77c7bcd40155683ae19c65e1c03b4aa3499c5328201f1"
   }
  }
 },
 "nbformat": 4,
 "nbformat_minor": 2
}
