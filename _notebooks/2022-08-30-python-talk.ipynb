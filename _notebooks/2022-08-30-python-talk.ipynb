{
 "cells": [
  {
   "cell_type": "markdown",
   "metadata": {},
   "source": [
    "# Python Tech Talk\n",
    "\n",
    "- toc: true\n",
    "- comments: true\n",
    "- categories: [Week3]"
   ]
  },
  {
   "cell_type": "markdown",
   "metadata": {},
   "source": [
    "InfoDb Database background\n",
    "The InfoDb database is a python dictionary, structured with values that are associated with keys. This makes it simple to extract specific information from a dictionary, based on its key. You can use database.append to add to the database."
   ]
  },
  {
   "cell_type": "markdown",
   "metadata": {},
   "source": [
    "Here, information is manually input into a dictionary called InfoDb using database.append."
   ]
  },
  {
   "cell_type": "code",
   "execution_count": 81,
   "metadata": {},
   "outputs": [
    {
     "name": "stdout",
     "output_type": "stream",
     "text": [
      "[{'FirstName': 'Jaden', 'LastName': 'Nguyen', 'FavFood': 'March 16', 'FavColor': 'Blue', 'CellPhone': '8589148661', 'Age': '15', 'Siblings': ['Brian', 'Katelyn']}]\n"
     ]
    }
   ],
   "source": [
    "InfoDb = [] #defining InfoDb as a dictionary\n",
    "\n",
    "InfoDb.append({\n",
    "    \"FirstName\": \"Jaden\", #\"key\": \"value\"\n",
    "    \"LastName\": \"Nguyen\",\n",
    "    \"FavFood\": \"March 16\",\n",
    "    \"FavColor\": \"Blue\",\n",
    "    \"CellPhone\": \"8589148661\",\n",
    "    \"Age\": \"15\",\n",
    "    \"Siblings\": [\"Brian\", \"Katelyn\"]\n",
    "})\n",
    "\n",
    "print(InfoDb)"
   ]
  },
  {
   "cell_type": "markdown",
   "metadata": {},
   "source": [
    "Here, I created functions collect_data and more_info to add to the database using input.  \n",
    "  \n",
    "more_info is a while loop. As long as the input to \"Do you want to enter information?\" is \"Yes\", the function will prompt the user to input information, then ask again. If it is any other answer, the loop ends.  \n",
    "  \n",
    "I also made a function print_db to print the contents of the database neatly. The output contains a second person's information that was added using collect_data and more_info. "
   ]
  },
  {
   "cell_type": "code",
   "execution_count": 82,
   "metadata": {},
   "outputs": [
    {
     "name": "stdout",
     "output_type": "stream",
     "text": [
      "\n"
     ]
    }
   ],
   "source": [
    "def collect_data():\n",
    "    fn = input(\"What is your first name? \") #storing inputs in variables\n",
    "    ln = input(\"What is your last name? \")\n",
    "    ff = input(\"What is your favorite food? \")\n",
    "    fc = input(\"What is your favorite color? \")\n",
    "    cell = input(\"What is your phone number? \")\n",
    "    age = input(\"What is your age? \")\n",
    "    sibs = input(\"What are your siblings' names, from oldest to youngest? \")\n",
    "    InfoDb.append({\n",
    "        \"FirstName\": fn, #\"key\": \"value\" but with variables\n",
    "        \"LastName\": ln,\n",
    "        \"FavFood\": ff,\n",
    "        \"FavColor\": fc,\n",
    "        \"CellPhone\": cell,\n",
    "        \"Age\": age,\n",
    "        \"Siblings\": [sibs]\n",
    "    })\n",
    "\n",
    "def more_info():\n",
    "    while True:\n",
    "        ans = input(\"Do you want to add more info to the database? \")\n",
    "        if ans == \"yes\":\n",
    "            name = True\n",
    "            collect_data() #collect data if input is \"yes\"\n",
    "            print()\n",
    "        else: #stop function if input isn't \"yes\"\n",
    "            break\n",
    "\n",
    "more_info()\n",
    "\n",
    "def print_db(db):\n",
    "    print(\"Here is the information for \" + db[\"FirstName\"], db[\"LastName\"] + \":\") #get \"value\" using database[\"key\"]\n",
    "    print()\n",
    "    print(\"Favorite Food: \" + db[\"FavFood\"])\n",
    "    print(\"Favorite Color: \" + db[\"FavColor\"])\n",
    "    print(\"Phone Number: \" + db[\"CellPhone\"])\n",
    "    print(\"Age: \" + db[\"Age\"])\n",
    "    print(\"Siblings: \" + \", \".join(db[\"Siblings\"]))\n",
    "    print()\n",
    "    print()"
   ]
  },
  {
   "cell_type": "markdown",
   "metadata": {},
   "source": [
    "Here, more_recursion is a function that has the same purpose as more_info, but uses recursion instead of a while loop. When the input is \"yes\", the function is repeated. When it is anything else, the function ends."
   ]
  },
  {
   "cell_type": "code",
   "execution_count": 132,
   "metadata": {},
   "outputs": [
    {
     "name": "stdout",
     "output_type": "stream",
     "text": [
      "\n"
     ]
    }
   ],
   "source": [
    "def more_recursion():\n",
    "    ans = input(\"Do you want to add more info to the database? \")\n",
    "    if ans == \"yes\":\n",
    "        name = True\n",
    "        collect_data()\n",
    "        print()\n",
    "        more_recursion() #function inside of the same function is recursion\n",
    "    else:\n",
    "        return\n",
    "\n",
    "more_recursion()"
   ]
  },
  {
   "cell_type": "markdown",
   "metadata": {},
   "source": [
    "Here is a for loop. It says: for each person in the database, print the person's information(using the print_db function)."
   ]
  },
  {
   "cell_type": "code",
   "execution_count": 133,
   "metadata": {},
   "outputs": [
    {
     "name": "stdout",
     "output_type": "stream",
     "text": [
      "Here is the information for Jaden Nguyen:\n",
      "\n",
      "Favorite Food: March 16\n",
      "Favorite Color: Blue\n",
      "Phone Number: 8589148661\n",
      "Age: 15\n",
      "Siblings: Brian, Katelyn\n",
      "\n",
      "\n",
      "Here is the information for jacques webster:\n",
      "\n",
      "Favorite Food: mcdonalds\n",
      "Favorite Color: brown\n",
      "Phone Number: 9021090210\n",
      "Age: 31\n",
      "Siblings: ye, scott, don\n",
      "\n",
      "\n",
      "Here is the information for jeffrey williams:\n",
      "\n",
      "Favorite Food: snakes\n",
      "Favorite Color: green\n",
      "Phone Number: 1234567890\n",
      "Age: 31\n",
      "Siblings: sergio, pluto\n",
      "\n",
      "\n"
     ]
    }
   ],
   "source": [
    "for person in InfoDb: #for each \"person\" in teh database, print the person's information\n",
    "    print_db(person)"
   ]
  },
  {
   "cell_type": "markdown",
   "metadata": {},
   "source": [
    "Here, I used a for loop with index to list the letters of each person's name in order."
   ]
  },
  {
   "cell_type": "code",
   "execution_count": 134,
   "metadata": {},
   "outputs": [
    {
     "name": "stdout",
     "output_type": "stream",
     "text": [
      "Letter number 1 in Jaden is J\n",
      "Letter number 2 in Jaden is a\n",
      "Letter number 3 in Jaden is d\n",
      "Letter number 4 in Jaden is e\n",
      "Letter number 5 in Jaden is n\n",
      "\n",
      "Letter number 1 in jacques is j\n",
      "Letter number 2 in jacques is a\n",
      "Letter number 3 in jacques is c\n",
      "Letter number 4 in jacques is q\n",
      "Letter number 5 in jacques is u\n",
      "Letter number 6 in jacques is e\n",
      "Letter number 7 in jacques is s\n",
      "\n",
      "Letter number 1 in jeffrey is j\n",
      "Letter number 2 in jeffrey is e\n",
      "Letter number 3 in jeffrey is f\n",
      "Letter number 3 in jeffrey is f\n",
      "Letter number 5 in jeffrey is r\n",
      "Letter number 2 in jeffrey is e\n",
      "Letter number 7 in jeffrey is y\n",
      "\n"
     ]
    }
   ],
   "source": [
    "def let_sort(sub):\n",
    "    name = sub[\"FirstName\"]\n",
    "    for let in name: # for each letter in the person's name\n",
    "        place = (name.index(let) + 1) #\"place\" is the letter's spot, +1 because index starts at 0\n",
    "        print(\"Letter number \" + str(place) + \" in \" + name + \" is \" + let)\n",
    "\n",
    "for person in InfoDb:\n",
    "    let_sort(person)\n",
    "    print()\n",
    "    \n",
    "    "
   ]
  }
 ],
 "metadata": {
  "kernelspec": {
   "display_name": "Python 3.9.12 ('base')",
   "language": "python",
   "name": "python3"
  },
  "language_info": {
   "codemirror_mode": {
    "name": "ipython",
    "version": 3
   },
   "file_extension": ".py",
   "mimetype": "text/x-python",
   "name": "python",
   "nbconvert_exporter": "python",
   "pygments_lexer": "ipython3",
   "version": "3.9.12"
  },
  "orig_nbformat": 4,
  "vscode": {
   "interpreter": {
    "hash": "55c5e13967205c3728e2b94d0ab43c33ccb2c0232d17d89ff06ed0b2c18999ab"
   }
  }
 },
 "nbformat": 4,
 "nbformat_minor": 2
}
