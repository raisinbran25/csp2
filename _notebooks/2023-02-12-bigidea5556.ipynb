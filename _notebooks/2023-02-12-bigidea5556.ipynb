{
 "cells": [
  {
   "attachments": {},
   "cell_type": "markdown",
   "metadata": {},
   "source": [
    "# Big Ideas 5.5, 5.6 Reflection\n",
    "- title: Big Ideas 5.5, 5.6 Reflection\n",
    "- categories: [Week]"
   ]
  },
  {
   "attachments": {},
   "cell_type": "markdown",
   "metadata": {},
   "source": [
    "## 5.5\n",
    "\n",
    "When you create a GitHub repository it requests a license type. Review the license types in relationship to this Tech Talk and make some notes in your personal blog.  \n",
    "  \n",
    "- Creative Commons Zero v1.0 Universal: example of free use material\n",
    "- MIT license: same as above, but giving author credit\n",
    "- Open Source GPL License: allow use, but unable to release their own versions\n",
    "\n",
    "In your blog, summarize the discussions and personal analysis on Software Licenses/Options, Digital Rights, and other Legal and Ethical thoughts from this College Board topic.  \n",
    "  \n",
    "There are many different perspectives and viewpoints for copyright. For one, people or companies may not want others to use their work without permission because they lose profit. On the other hand, a small creator may not want copyright because it helps them grow and spread. Finally, some argue that copyright is generally ineffective, people always find a way to copy.\n",
    "\n",
    "Make a license for your personal (blog) and Team repositories for the CPT project. Be sure to have a license for both Team GitHub repositories (frontend/backend). Document license(s) you picked and why. FYI, frontend, since it is built on GitHub pages may come with a license and restrictions. Document in blog how team made license choice and process of update.  \n",
    "  \n",
    "I chose Creative Commons Zero v1.0 Universal because I do not intend to profit from any of the work in my repository. I hope I can reach other CSP students who are interested in creating code inspired by my work. I did this by removing previous LICENSE file and creating a new one with correct license.\n"
   ]
  },
  {
   "attachments": {},
   "cell_type": "markdown",
   "metadata": {},
   "source": [
    "## 5.6\n",
    "  \n",
    "Describe PII you have seen on project in CompSci Principles.  \n",
    "  \n",
    "Some PII I have seen in CSP is name, age, date of birth, graduation year from API activity.\n",
    "\n",
    "What are your feelings about PII and your personal exposure?  \n",
    "\n",
    "I feel that a safe amount of PII on the internet can be helpful, such as LinkedIn info to help reach out to employers. Obviously, info such as credit cards and passwords are harmful, malicious actions can be taken with them.\n",
    "\n",
    "Describe good and bad passwords? What is another step that is used to assist in authentication.  \n",
    "  \n",
    "Good passwords include a wide variety of symbols(upper/lowercase, numbers, symbols) becuase it takes more time to brute force. Two-factor authentication is a helpful authentication method, which includes confirming login externally, such as through email or code.\n",
    "\n",
    "Try to describe Symmetric and Asymmetric encryption.  \n",
    "  \n",
    "Symmetric encyrption uses a single key for encrytion and decrytion, while asymmetric encryption creates two keys, public and private, one for encryption and one for decryption.    \n",
    "\n",
    "Provide an example of encryption we used in AWS deployment.  \n",
    "  \n",
    "One example of encryption in AWS was the public/private key creation to ensure confidentiality and security.\n",
    "\n",
    "Describe a phishing scheme you have learned about the hard way. Describe some other phishing techniques.  \n",
    "  \n",
    "One time, my mom thought she won free watches but in reality she had clicked on a malicious link. Luckily, my siblings and I caught the mistake before she could input any sensitive information, like credit card number."
   ]
  }
 ],
 "metadata": {
  "kernelspec": {
   "display_name": "base",
   "language": "python",
   "name": "python3"
  },
  "language_info": {
   "codemirror_mode": {
    "name": "ipython",
    "version": 3
   },
   "file_extension": ".py",
   "mimetype": "text/x-python",
   "name": "python",
   "nbconvert_exporter": "python",
   "pygments_lexer": "ipython3",
   "version": "3.9.12"
  },
  "orig_nbformat": 4,
  "vscode": {
   "interpreter": {
    "hash": "55c5e13967205c3728e2b94d0ab43c33ccb2c0232d17d89ff06ed0b2c18999ab"
   }
  }
 },
 "nbformat": 4,
 "nbformat_minor": 2
}
