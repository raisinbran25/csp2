{
 "cells": [
  {
   "attachments": {},
   "cell_type": "markdown",
   "metadata": {},
   "source": [
    "# Big Ideas 5.5, 5.6 Reflection\n",
    "- title: Big Ideas 5.5, 5.6 Reflection\n",
    "- categories: [Week]"
   ]
  },
  {
   "attachments": {},
   "cell_type": "markdown",
   "metadata": {},
   "source": [
    "## 5.5\n",
    "\n",
    "When you create a GitHub repository it requests a license type. Review the license types in relationship to this Tech Talk and make some notes in your personal blog.  \n",
    "  \n",
    "- Creative Commons Zero v1.0 Universal: example of free use material\n",
    "- MIT license: same as above, but giving author credit\n",
    "- Open Source GPL License: allow use, but unable to release their own versions\n",
    "\n",
    "In your blog, summarize the discussions and personal analysis on Software Licenses/Options, Digital Rights, and other Legal and Ethical thoughts from this College Board topic.  \n",
    "  \n",
    "There are many different perspectives and viewpoints for copyright. For one, people or companies may not want others to use their work without permission because they lose profit. On the other hand, a small creator may not want copyright because it helps them grow and spread. Finally, some argue that copyright is generally ineffective, people always find a way to copy.\n",
    "\n",
    "Make a license for your personal (blog) and Team repositories for the CPT project. Be sure to have a license for both Team GitHub repositories (frontend/backend). Document license(s) you picked and why. FYI, frontend, since it is built on GitHub pages may come with a license and restrictions. Document in blog how team made license choice and process of update.  \n",
    "  \n",
    "\n"
   ]
  },
  {
   "attachments": {},
   "cell_type": "markdown",
   "metadata": {},
   "source": [
    "## 5.6\n",
    "  \n"
   ]
  }
 ],
 "metadata": {
  "kernelspec": {
   "display_name": "base",
   "language": "python",
   "name": "python3"
  },
  "language_info": {
   "codemirror_mode": {
    "name": "ipython",
    "version": 3
   },
   "file_extension": ".py",
   "mimetype": "text/x-python",
   "name": "python",
   "nbconvert_exporter": "python",
   "pygments_lexer": "ipython3",
   "version": "3.9.12"
  },
  "orig_nbformat": 4,
  "vscode": {
   "interpreter": {
    "hash": "55c5e13967205c3728e2b94d0ab43c33ccb2c0232d17d89ff06ed0b2c18999ab"
   }
  }
 },
 "nbformat": 4,
 "nbformat_minor": 2
}
