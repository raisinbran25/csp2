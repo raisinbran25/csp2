{
 "cells": [
  {
   "cell_type": "markdown",
   "metadata": {},
   "source": [
    "# CollegeBoard MCQs\n",
    "\n",
    "- toc: true\n",
    "- comments: true\n",
    "- categories: [Week6]"
   ]
  },
  {
   "cell_type": "markdown",
   "metadata": {},
   "source": [
    "Here are my completed collegeboard assignments. A problem that I had trouble with was the swapping indexes question. I chose a wrong answer because I thought the indexes were counted from 0, when they were counted from 1.\n",
    "\n",
    "![]({{site.baseurl}}/images/assignments.png \"https://github.com/raisinbran25/csp2\")"
   ]
  }
 ],
 "metadata": {
  "kernelspec": {
   "display_name": "Python 3.8.10 64-bit",
   "language": "python",
   "name": "python3"
  },
  "language_info": {
   "name": "python",
   "version": "3.8.10"
  },
  "orig_nbformat": 4,
  "vscode": {
   "interpreter": {
    "hash": "916dbcbb3f70747c44a77c7bcd40155683ae19c65e1c03b4aa3499c5328201f1"
   }
  }
 },
 "nbformat": 4,
 "nbformat_minor": 2
}
