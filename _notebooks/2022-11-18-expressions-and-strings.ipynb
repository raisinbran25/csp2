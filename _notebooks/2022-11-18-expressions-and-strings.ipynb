{
 "cells": [
  {
   "cell_type": "markdown",
   "metadata": {},
   "source": [
    "# expressions and strings(python)\n",
    "\n",
    "- toc: true\n",
    "- comments: true\n",
    "- categories: []"
   ]
  },
  {
   "cell_type": "markdown",
   "metadata": {},
   "source": [
    "## Expressions"
   ]
  },
  {
   "cell_type": "markdown",
   "metadata": {},
   "source": [
    "Sequencing: the code below does not follow the intended steps below. change the code so that it does so.\n",
    "1. divide value1 by 10(value1 = 5)  \n",
    "2. multiply 2 from the result of the step 1  \n",
    "3. subtract 4 from the result of the step 2\n",
    "4. print the result of step 3"
   ]
  },
  {
   "cell_type": "code",
   "execution_count": null,
   "metadata": {},
   "outputs": [],
   "source": [
    "# operations: divide(/), multiply(*), add(+), subtract(-), modulus(%), exponent(**)\n",
    "value1 = 5\n",
    "value2 = value1 - 1 #step 1\n",
    "value3 = value2 / 2 #step 2\n",
    "value4 = value3 * 6 #step 3\n",
    "print(value4)"
   ]
  },
  {
   "cell_type": "markdown",
   "metadata": {},
   "source": [
    "Selection/Iteration: Create a function to print ONLY the numbers of numlist that are divisble by 3.  \n",
    "Hint: use the MOD operator (a % b) to find the remainder when a is divided by b."
   ]
  },
  {
   "cell_type": "code",
   "execution_count": 41,
   "metadata": {},
   "outputs": [
    {
     "name": "stdout",
     "output_type": "stream",
     "text": [
      "3 is divisible by 3\n",
      "9 is divisible by 3\n",
      "891 is divisible by 3\n"
     ]
    }
   ],
   "source": [
    "numlist = \"3\",\"4\",\"9\",\"76\",\"891\"\n",
    "for num in numlist:\n",
    "    if int(num) % 3 == 0:\n",
    "        print(str(num) + \" is divisible by 3\")\n",
    "        continue\n",
    "    else:\n",
    "        continue\n",
    "            "
   ]
  },
  {
   "cell_type": "markdown",
   "metadata": {},
   "source": [
    "Homework/Binary Adaptation: Create a python function that will convert a decimal number 1-255 to binary using mathematical operations and powers of 2."
   ]
  },
  {
   "cell_type": "code",
   "execution_count": 3,
   "metadata": {},
   "outputs": [
    {
     "name": "stdout",
     "output_type": "stream",
     "text": [
      "01100010\n"
     ]
    }
   ],
   "source": [
    "def convert(dec):\n",
    "    bin = \"\"\n",
    "    i = 7\n",
    "\n",
    "    while i >= 0:\n",
    "        if dec % (2**i) == dec:\n",
    "            bin = bin + \"0\"\n",
    "            i -= 1\n",
    "        else:\n",
    "            bin = bin + \"1\"\n",
    "            dec -= 2**i\n",
    "            i -= 1\n",
    "\n",
    "    print(bin)\n",
    "\n",
    "convert(98)"
   ]
  },
  {
   "cell_type": "markdown",
   "metadata": {},
   "source": [
    "## Strings"
   ]
  },
  {
   "cell_type": "markdown",
   "metadata": {},
   "source": [
    "### Vocab:\n",
    "Index is a number representing a position, like a character's position in a string or a string's position in a list.  \n",
    "Concatenation is ______  \n",
    "Length is ____  \n",
    "A substring is _______  "
   ]
  },
  {
   "cell_type": "markdown",
   "metadata": {},
   "source": [
    "Substring/Length: change the print functions to print \"hello\", \"bye\", and the string length"
   ]
  },
  {
   "cell_type": "code",
   "execution_count": 26,
   "metadata": {},
   "outputs": [
    {
     "name": "stdout",
     "output_type": "stream",
     "text": [
      "8\n",
      "hello\n",
      "bye\n"
     ]
    }
   ],
   "source": [
    "#substring = string[start:end] \n",
    "#the substring will have the characters including the index \"start\" to the character BEFORE the index \"end\"\n",
    "#len(string) will print the length of string\n",
    "\n",
    "string = \"hellobye\"\n",
    "print(len(string))\n",
    "print(string[0:5])\n",
    "print(string[5:8])"
   ]
  },
  {
   "cell_type": "markdown",
   "metadata": {},
   "source": [
    "Concatenation: combine string1 and string2 to make string3, then print string3."
   ]
  },
  {
   "cell_type": "code",
   "execution_count": 27,
   "metadata": {},
   "outputs": [
    {
     "name": "stdout",
     "output_type": "stream",
     "text": [
      "computerscience\n"
     ]
    }
   ],
   "source": [
    "#string1 + string2 will add string2 to the end of string1\n",
    "\n",
    "string1 = \"computer\"\n",
    "string2 = \"science\"\n",
    "string3 = string1 + string2\n",
    "print(string3)"
   ]
  },
  {
   "cell_type": "markdown",
   "metadata": {},
   "source": [
    "Homework/List Adaptation: create a function that prints the name of each string in the list and the string's length."
   ]
  },
  {
   "cell_type": "code",
   "execution_count": 38,
   "metadata": {},
   "outputs": [
    {
     "name": "stdout",
     "output_type": "stream",
     "text": [
      "jaden: 5\n",
      "max: 3\n",
      "dylan: 5\n",
      "orlando: 7\n"
     ]
    }
   ],
   "source": [
    "names = [\"jaden\",\"max\",\"dylan\",\"orlando\"]\n",
    "\n",
    "def length(list):\n",
    "    for name in names:\n",
    "        print(name + \": \" + str(len(name)))\n",
    "\n",
    "length(names)\n"
   ]
  }
 ],
 "metadata": {
  "kernelspec": {
   "display_name": "Python 3.8.10 64-bit",
   "language": "python",
   "name": "python3"
  },
  "language_info": {
   "codemirror_mode": {
    "name": "ipython",
    "version": 3
   },
   "file_extension": ".py",
   "mimetype": "text/x-python",
   "name": "python",
   "nbconvert_exporter": "python",
   "pygments_lexer": "ipython3",
   "version": "3.8.10"
  },
  "orig_nbformat": 4,
  "vscode": {
   "interpreter": {
    "hash": "916dbcbb3f70747c44a77c7bcd40155683ae19c65e1c03b4aa3499c5328201f1"
   }
  }
 },
 "nbformat": 4,
 "nbformat_minor": 2
}
